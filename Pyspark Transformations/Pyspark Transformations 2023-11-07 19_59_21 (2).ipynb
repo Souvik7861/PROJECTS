{
 "cells": [
  {
   "cell_type": "code",
   "execution_count": 0,
   "metadata": {
    "application/vnd.databricks.v1+cell": {
     "cellMetadata": {
      "byteLimit": 2048000,
      "rowLimit": 10000
     },
     "inputWidgets": {},
     "nuid": "164fc8b3-5aa3-4d14-93f0-bdcd5bf2742d",
     "showTitle": false,
     "title": ""
    }
   },
   "outputs": [],
   "source": [
    "from pyspark.sql.functions import *\n",
    "from pyspark.sql.types import *\n",
    "from pyspark.sql.window import *\n",
    "from datetime import datetime"
   ]
  },
  {
   "cell_type": "markdown",
   "metadata": {
    "application/vnd.databricks.v1+cell": {
     "cellMetadata": {},
     "inputWidgets": {},
     "nuid": "f85e9125-7e1b-4332-9973-ba7fb194d71d",
     "showTitle": false,
     "title": ""
    }
   },
   "source": [
    "## 1.Monthly Percentage Difference \n",
    "\n",
    "Q. Given a table of purchases by date, calculate the month-over-month percentage change in revenue. The output should include the year-month date (YYYY-MM) and percentage change, rounded to the 2nd decimal point, and sorted from the beginning of the year to the end of the year.\n",
    "The percentage change column will be populated from the 2nd month forward and can be calculated as ((this month's revenue - last month's revenue) / last month's revenue)*100.    \n",
    "[link](https://platform.stratascratch.com/coding/10319-monthly-percentage-difference?code_type=3)\n",
    "##### Expected Output\n",
    "![Expected Output](https://github.com/Souvik7861/PROJECTS/blob/ba8a9b9a5ad48965daadd3078c1fcb710deb6268/Pyspark%20Transformations/Resources/ione.png)"
   ]
  },
  {
   "cell_type": "markdown",
   "metadata": {
    "application/vnd.databricks.v1+cell": {
     "cellMetadata": {},
     "inputWidgets": {},
     "nuid": "cc58dd43-8c22-4c5c-880c-86f420e2f553",
     "showTitle": false,
     "title": ""
    }
   },
   "source": [
    "#### Spark-Dataframe API"
   ]
  },
  {
   "cell_type": "code",
   "execution_count": 0,
   "metadata": {
    "application/vnd.databricks.v1+cell": {
     "cellMetadata": {
      "byteLimit": 2048000,
      "rowLimit": 10000
     },
     "inputWidgets": {},
     "nuid": "1f738fea-3d2b-4915-945e-1002126be0c3",
     "showTitle": false,
     "title": ""
    },
    "jupyter": {
     "source_hidden": true
    }
   },
   "outputs": [],
   "source": [
    "my_data = ([\n",
    "(1,datetime.strptime('2019-01-01',\"%Y-%m-%d\"),172692,43),\n",
    "(2,datetime.strptime('2019-01-05',\"%Y-%m-%d\"),177194,36),\n",
    "(3,datetime.strptime('2019-01-09',\"%Y-%m-%d\"),109513,30),\n",
    "(4,datetime.strptime('2019-01-13',\"%Y-%m-%d\"),164911,30),\n",
    "(5,datetime.strptime('2019-01-17',\"%Y-%m-%d\"),198872,39),\n",
    "(6,datetime.strptime('2019-01-21',\"%Y-%m-%d\"),184853,31),\n",
    "(7,datetime.strptime('2019-01-25',\"%Y-%m-%d\"),186817,26),\n",
    "(8,datetime.strptime('2019-01-29',\"%Y-%m-%d\"),137784,22),\n",
    "(9,datetime.strptime('2019-02-02',\"%Y-%m-%d\"),140032,25),\n",
    "(10,datetime.strptime('2019-02-06',\"%Y-%m-%d\"),116948,43),\n",
    "(11,datetime.strptime('2019-02-10',\"%Y-%m-%d\"),162515,25),\n",
    "(12,datetime.strptime('2019-02-14',\"%Y-%m-%d\"),114256,12),\n",
    "(13,datetime.strptime('2019-02-18',\"%Y-%m-%d\"),197465,48),\n",
    "(14,datetime.strptime('2019-02-22',\"%Y-%m-%d\"),120741,20),\n",
    "(15,datetime.strptime('2019-02-26',\"%Y-%m-%d\"),100074,49),\n",
    "(16,datetime.strptime('2019-03-02',\"%Y-%m-%d\"),157548,19),\n",
    "(17,datetime.strptime('2019-03-06',\"%Y-%m-%d\"),105506,16),\n",
    "(18,datetime.strptime('2019-03-10',\"%Y-%m-%d\"),189351,46),\n",
    "(19,datetime.strptime('2019-03-14',\"%Y-%m-%d\"),191231,29),\n",
    "(20,datetime.strptime('2019-03-18',\"%Y-%m-%d\"),120575,44),\n",
    "(21,datetime.strptime('2019-03-22',\"%Y-%m-%d\"),151688,47),\n",
    "(22,datetime.strptime('2019-03-26',\"%Y-%m-%d\"),102327,18),\n",
    "(23,datetime.strptime('2019-03-30',\"%Y-%m-%d\"),156147,25),\n",
    "(24,datetime.strptime('2019-04-03',\"%Y-%m-%d\"),192530,36),\n",
    "(25,datetime.strptime('2019-04-07',\"%Y-%m-%d\"),154765,42),\n",
    "(26,datetime.strptime('2019-04-11',\"%Y-%m-%d\"),113336,12),\n",
    "(27,datetime.strptime('2019-04-15',\"%Y-%m-%d\"),129073,50),\n",
    "(28,datetime.strptime('2019-04-19',\"%Y-%m-%d\"),123477,21),\n",
    "(29,datetime.strptime('2019-04-23',\"%Y-%m-%d\"),182142,31),\n",
    "(30,datetime.strptime('2019-04-27',\"%Y-%m-%d\"),116546,39),\n",
    "(31,datetime.strptime('2019-05-01',\"%Y-%m-%d\"),174748,26),\n",
    "(32,datetime.strptime('2019-05-05',\"%Y-%m-%d\"),155693,42),\n",
    "(33,datetime.strptime('2019-05-09',\"%Y-%m-%d\"),103012,25),\n",
    "(34,datetime.strptime('2019-05-13',\"%Y-%m-%d\"),187960,33),\n",
    "(35,datetime.strptime('2019-05-17',\"%Y-%m-%d\"),101202,18),\n",
    "(36,datetime.strptime('2019-05-21',\"%Y-%m-%d\"),112522,10),\n",
    "(37,datetime.strptime('2019-05-25',\"%Y-%m-%d\"),195969,37),\n",
    "(38,datetime.strptime('2019-05-29',\"%Y-%m-%d\"),117284,40),\n",
    "(39,datetime.strptime('2019-06-02',\"%Y-%m-%d\"),112956,36),\n",
    "(40,datetime.strptime('2019-06-06',\"%Y-%m-%d\"),174157,29),\n",
    "(41,datetime.strptime('2019-06-10',\"%Y-%m-%d\"),125975,45),\n",
    "(42,datetime.strptime('2019-06-14',\"%Y-%m-%d\"),110340,29),\n",
    "(43,datetime.strptime('2019-06-18',\"%Y-%m-%d\"),143066,31),\n",
    "(44,datetime.strptime('2019-06-22',\"%Y-%m-%d\"),153270,11),\n",
    "(45,datetime.strptime('2019-06-26',\"%Y-%m-%d\"),139635,29),\n",
    "(46,datetime.strptime('2019-06-30',\"%Y-%m-%d\"),157071,35),\n",
    "(47,datetime.strptime('2019-07-04',\"%Y-%m-%d\"),166552,18),\n",
    "(48,datetime.strptime('2019-07-08',\"%Y-%m-%d\"),197587,34),\n",
    "(49,datetime.strptime('2019-07-12',\"%Y-%m-%d\"),103958,37),\n",
    "(50,datetime.strptime('2019-07-16',\"%Y-%m-%d\"),111305,28),\n",
    "(51,datetime.strptime('2019-07-20',\"%Y-%m-%d\"),190266,39),\n",
    "(52,datetime.strptime('2019-07-24',\"%Y-%m-%d\"),116060,44),\n",
    "(53,datetime.strptime('2019-07-28',\"%Y-%m-%d\"),163802,48),\n",
    "(54,datetime.strptime('2019-08-01',\"%Y-%m-%d\"),188558,21),\n",
    "(55,datetime.strptime('2019-08-05',\"%Y-%m-%d\"),166528,49),\n",
    "(56,datetime.strptime('2019-08-09',\"%Y-%m-%d\"),141463,28),\n",
    "(57,datetime.strptime('2019-08-13',\"%Y-%m-%d\"),120110,34),\n",
    "(58,datetime.strptime('2019-08-17',\"%Y-%m-%d\"),159368,12),\n",
    "(59,datetime.strptime('2019-08-21',\"%Y-%m-%d\"),184900,46),\n",
    "(60,datetime.strptime('2019-08-25',\"%Y-%m-%d\"),190372,38),\n",
    "(61,datetime.strptime('2019-08-29',\"%Y-%m-%d\"),195877,15),\n",
    "(62,datetime.strptime('2019-09-02',\"%Y-%m-%d\"),143221,21),\n",
    "(63,datetime.strptime('2019-09-06',\"%Y-%m-%d\"),160413,41),\n",
    "(64,datetime.strptime('2019-09-10',\"%Y-%m-%d\"),183919,43),\n",
    "(65,datetime.strptime('2019-09-14',\"%Y-%m-%d\"),134535,34),\n",
    "(66,datetime.strptime('2019-09-18',\"%Y-%m-%d\"),188646,31),\n",
    "(67,datetime.strptime('2019-09-22',\"%Y-%m-%d\"),122706,27),\n",
    "(68,datetime.strptime('2019-09-26',\"%Y-%m-%d\"),160016,21),\n",
    "(69,datetime.strptime('2019-09-30',\"%Y-%m-%d\"),186777,21),\n",
    "(70,datetime.strptime('2019-10-04',\"%Y-%m-%d\"),165442,50),\n",
    "(71,datetime.strptime('2019-10-08',\"%Y-%m-%d\"),172445,43),\n",
    "(72,datetime.strptime('2019-10-12',\"%Y-%m-%d\"),167910,21),\n",
    "(73,datetime.strptime('2019-10-16',\"%Y-%m-%d\"),116646,35),\n",
    "(74,datetime.strptime('2019-10-20',\"%Y-%m-%d\"),163287,15),\n",
    "(75,datetime.strptime('2019-10-24',\"%Y-%m-%d\"),187293,43),\n",
    "(76,datetime.strptime('2019-10-28',\"%Y-%m-%d\"),144823,11),\n",
    "(77,datetime.strptime('2019-11-01',\"%Y-%m-%d\"),118317,10),\n",
    "(78,datetime.strptime('2019-11-05',\"%Y-%m-%d\"),166105,38),\n",
    "(79,datetime.strptime('2019-11-09',\"%Y-%m-%d\"),121128,11),\n",
    "(80,datetime.strptime('2019-11-13',\"%Y-%m-%d\"),177355,38),\n",
    "(81,datetime.strptime('2019-11-17',\"%Y-%m-%d\"),176442,50),\n",
    "(82,datetime.strptime('2019-11-21',\"%Y-%m-%d\"),129837,10),\n",
    "(83,datetime.strptime('2019-11-25',\"%Y-%m-%d\"),122363,38),\n",
    "(84,datetime.strptime('2019-11-29',\"%Y-%m-%d\"),125469,10),\n",
    "(85,datetime.strptime('2019-12-03',\"%Y-%m-%d\"),109657,20),\n",
    "(86,datetime.strptime('2019-12-07',\"%Y-%m-%d\"),108782,35),\n",
    "(87,datetime.strptime('2019-12-11',\"%Y-%m-%d\"),149235,18),\n",
    "(88,datetime.strptime('2019-12-15',\"%Y-%m-%d\"),187243,36),\n",
    "(89,datetime.strptime('2019-12-19',\"%Y-%m-%d\"),152538,20),\n",
    "(90,datetime.strptime('2019-12-23',\"%Y-%m-%d\"),178861,34),\n",
    "(91,datetime.strptime('2019-12-27',\"%Y-%m-%d\"),122675,30),\n",
    "(92,datetime.strptime('2019-12-31',\"%Y-%m-%d\"),104037,18) ]) \n",
    "\n",
    "my_schema = StructType([ StructField('id',IntegerType(),False),\n",
    "                         StructField('created_at',DateType(),True),\n",
    "                         StructField('value',IntegerType(),True),\n",
    "                         StructField('purchase_id',IntegerType(),True)])\n",
    "\n",
    "\n"
   ]
  },
  {
   "cell_type": "code",
   "execution_count": 0,
   "metadata": {
    "application/vnd.databricks.v1+cell": {
     "cellMetadata": {
      "byteLimit": 2048000,
      "rowLimit": 10000
     },
     "inputWidgets": {},
     "nuid": "b88351e4-d3e0-49c2-92ea-91b2d677208f",
     "showTitle": false,
     "title": ""
    },
    "jupyter": {
     "source_hidden": true
    }
   },
   "outputs": [],
   "source": [
    "sf_transactions = spark.createDataFrame(data=my_data,schema=my_schema)"
   ]
  },
  {
   "cell_type": "code",
   "execution_count": 0,
   "metadata": {
    "application/vnd.databricks.v1+cell": {
     "cellMetadata": {
      "byteLimit": 2048000,
      "rowLimit": 10000
     },
     "inputWidgets": {},
     "nuid": "6d537ec6-052d-4687-a015-0b75e12984b9",
     "showTitle": false,
     "title": ""
    }
   },
   "outputs": [
    {
     "output_type": "stream",
     "name": "stdout",
     "output_type": "stream",
     "text": [
      "+---+----------+------+-----------+\n| id|created_at| value|purchase_id|\n+---+----------+------+-----------+\n|  1|2019-01-01|172692|         43|\n|  2|2019-01-05|177194|         36|\n|  3|2019-01-09|109513|         30|\n|  4|2019-01-13|164911|         30|\n|  5|2019-01-17|198872|         39|\n+---+----------+------+-----------+\nonly showing top 5 rows\n\nroot\n |-- id: integer (nullable = false)\n |-- created_at: date (nullable = true)\n |-- value: integer (nullable = true)\n |-- purchase_id: integer (nullable = true)\n\n"
     ]
    }
   ],
   "source": [
    "sf_transactions.show(5)\n",
    "sf_transactions.printSchema()"
   ]
  },
  {
   "cell_type": "code",
   "execution_count": 0,
   "metadata": {
    "application/vnd.databricks.v1+cell": {
     "cellMetadata": {
      "byteLimit": 2048000,
      "rowLimit": 10000
     },
     "inputWidgets": {},
     "nuid": "49a39759-a880-4cc1-9a61-5739765e034e",
     "showTitle": false,
     "title": ""
    }
   },
   "outputs": [
    {
     "output_type": "stream",
     "name": "stdout",
     "output_type": "stream",
     "text": [
      "+-------+----------------+\n|     ym|revenue_diff_pct|\n+-------+----------------+\n|2019-01|            null|\n|2019-02|          -28.56|\n|2019-03|           23.35|\n|2019-04|          -13.84|\n|2019-05|           13.49|\n|2019-06|           -2.78|\n|2019-07|            -6.0|\n|2019-08|           28.36|\n|2019-09|           -4.97|\n|2019-10|          -12.68|\n|2019-11|            1.71|\n|2019-12|           -2.11|\n+-------+----------------+\n\n"
     ]
    }
   ],
   "source": [
    "window = Window.orderBy('ym')\n",
    "\n",
    "result_df = sf_transactions.select(\n",
    "            date_format(col(\"created_at\"), \"yyyy-MM\").alias('ym'),col('value'))\\\n",
    "            .groupBy('ym').agg(sum('value').alias('sum(value)'))\\\n",
    "            .withColumn('pre', lag('sum(value)', 1).over(window))\\\n",
    "            .withColumn('revenue_diff_pct',round(((col('sum(value)')-col('pre'))/col('pre'))*100,2))\\\n",
    "            \n",
    "result_df.select('ym','revenue_diff_pct').show()\n",
    "\n"
   ]
  },
  {
   "cell_type": "markdown",
   "metadata": {
    "application/vnd.databricks.v1+cell": {
     "cellMetadata": {},
     "inputWidgets": {},
     "nuid": "63b69645-a4d8-4741-ab23-acac864e43c7",
     "showTitle": false,
     "title": ""
    }
   },
   "source": [
    "#### Spark-SQL"
   ]
  },
  {
   "cell_type": "code",
   "execution_count": 0,
   "metadata": {
    "application/vnd.databricks.v1+cell": {
     "cellMetadata": {
      "byteLimit": 2048000,
      "rowLimit": 10000
     },
     "inputWidgets": {},
     "nuid": "6febba36-e112-4ff4-9f1e-b7a873c00e83",
     "showTitle": false,
     "title": ""
    }
   },
   "outputs": [],
   "source": [
    "sf_transactions.createOrReplaceTempView('sf_transactions_table')"
   ]
  },
  {
   "cell_type": "code",
   "execution_count": 0,
   "metadata": {
    "application/vnd.databricks.v1+cell": {
     "cellMetadata": {
      "byteLimit": 2048000,
      "rowLimit": 10000
     },
     "inputWidgets": {},
     "nuid": "bd35d5a6-7a7c-45f6-ae0c-8b0509d2b072",
     "showTitle": false,
     "title": ""
    }
   },
   "outputs": [
    {
     "output_type": "stream",
     "name": "stdout",
     "output_type": "stream",
     "text": [
      "+-------+----------------+\n|     ym|revenue_diff_pct|\n+-------+----------------+\n|2019-01|            null|\n|2019-02|           28.56|\n|2019-03|          -23.35|\n|2019-04|           13.84|\n|2019-05|          -13.49|\n|2019-06|            2.78|\n|2019-07|             6.0|\n|2019-08|          -28.36|\n|2019-09|            4.97|\n|2019-10|           12.68|\n|2019-11|           -1.71|\n|2019-12|            2.11|\n+-------+----------------+\n\n"
     ]
    }
   ],
   "source": [
    "spark.sql(\"\"\"\n",
    "            select ym,round(((pre-value)/pre)*100,2) as revenue_diff_pct\n",
    "            from \n",
    "                (select * , lag(T.value) over(order by ym) as pre\n",
    "                from \n",
    "                    (select \n",
    "                    DATE_FORMAT(created_at,\"yyyy-MM\") as ym,\n",
    "                    sum(value) as value\n",
    "                    from \n",
    "                    sf_transactions_table\n",
    "                    group by ym \n",
    "                    ) AS T\n",
    "                ) as U\n",
    "          \"\"\").show()"
   ]
  },
  {
   "cell_type": "markdown",
   "metadata": {
    "application/vnd.databricks.v1+cell": {
     "cellMetadata": {},
     "inputWidgets": {},
     "nuid": "17652d2f-4b02-4382-83c3-203a4227befd",
     "showTitle": false,
     "title": ""
    }
   },
   "source": [
    "## 2. Top Percentile Fraud\n",
    "\n",
    "Q. ABC Corp is a mid-sized insurer in the US and in the recent past their fraudulent claims have increased significantly for their personal auto insurance portfolio. They have developed a ML based predictive model to identify propensity of fraudulent claims. Now, they assign highly experienced claim adjusters for top 5 percentile of claims identified by the model.\n",
    "Your objective is to identify the top 5 percentile of claims from each state. Your output should be policy number, state, claim cost, and fraud score.  \n",
    "[link](https://platform.stratascratch.com/coding/10303-top-percentile-fraud?code_type=3)\n",
    "##### Expected Output\n",
    "![Expected Output](https://github.com/Souvik7861/PROJECTS/blob/ba8a9b9a5ad48965daadd3078c1fcb710deb6268/Pyspark%20Transformations/Resources/itwo.png)"
   ]
  },
  {
   "cell_type": "markdown",
   "metadata": {
    "application/vnd.databricks.v1+cell": {
     "cellMetadata": {},
     "inputWidgets": {},
     "nuid": "7373c189-daab-4dca-837f-3fc0209c6b16",
     "showTitle": false,
     "title": ""
    }
   },
   "source": [
    "#### Spark-Dataframe API"
   ]
  },
  {
   "cell_type": "code",
   "execution_count": 0,
   "metadata": {
    "application/vnd.databricks.v1+cell": {
     "cellMetadata": {
      "byteLimit": 2048000,
      "rowLimit": 10000
     },
     "inputWidgets": {},
     "nuid": "42065840-47ac-4b64-90a2-6ef83a13b347",
     "showTitle": false,
     "title": ""
    },
    "jupyter": {
     "source_hidden": true
    }
   },
   "outputs": [],
   "source": [
    "my_data = ([\n",
    "('ABCD1001','CA',4113,0.613),\n",
    "('ABCD1002','CA',3946,0.156),\n",
    "('ABCD1003','CA',4335,0.014),\n",
    "('ABCD1004','CA',3967,0.142),\n",
    "('ABCD1005','CA',1599,0.889),\n",
    "('ABCD1006','CA',1021,0.873),\n",
    "('ABCD1007','CA',1725,0.512),\n",
    "('ABCD1008','CA',1794,0.349),\n",
    "('ABCD1009','CA',4593,0.574),\n",
    "('ABCD1010','CA',3430,0.929),\n",
    "('ABCD1011','CA',4648,0.183),\n",
    "('ABCD1012','CA',3963,0.511),\n",
    "('ABCD1013','CA',3284,0.22),\n",
    "('ABCD1014','CA',1068,0.025),\n",
    "('ABCD1015','CA',4171,0.368),\n",
    "('ABCD1016','CA',1639,0.964),\n",
    "('ABCD1017','CA',2171,0.288),\n",
    "('ABCD1018','CA',2627,0.337),\n",
    "('ABCD1019','CA',1681,0.181),\n",
    "('ABCD1020','CA',1516,0.074),\n",
    "('ABCD1021','CA',4898,0.947),\n",
    "('ABCD1022','CA',1149,0.911),\n",
    "('ABCD1023','CA',2613,0.362),\n",
    "('ABCD1024','CA',4202,0.675),\n",
    "('ABCD1025','CA',2861,0.206),\n",
    "('ABCD1026','CA',1745,0.555),\n",
    "('ABCD1027','CA',2663,0.988),\n",
    "('ABCD1028','CA',1920,0.078),\n",
    "('ABCD1029','CA',4780,0.448),\n",
    "('ABCD1030','CA',1336,0.934),\n",
    "('ABCD1031','CA',3895,0.019),\n",
    "('ABCD1032','CA',2329,0.334),\n",
    "('ABCD1033','CA',4833,0.84),\n",
    "('ABCD1034','CA',3995,0.506),\n",
    "('ABCD1035','CA',1578,0.437),\n",
    "('ABCD1036','CA',3935,0.292),\n",
    "('ABCD1037','CA',1662,0.171),\n",
    "('ABCD1038','CA',2476,0.747),\n",
    "('ABCD1039','CA',4388,0.188),\n",
    "('ABCD1040','CA',3426,0.608),\n",
    "('ABCD1041','CA',3241,0.842),\n",
    "('ABCD1042','CA',4674,0.91),\n",
    "('ABCD1043','CA',4683,0.109),\n",
    "('ABCD1044','CA',3412,0.53),\n",
    "('ABCD1045','CA',1088,0.369),\n",
    "('ABCD1046','CA',2368,0.723),\n",
    "('ABCD1047','CA',3253,0.081),\n",
    "('ABCD1048','CA',2558,0.28),\n",
    "('ABCD1049','CA',4067,0.736),\n",
    "('ABCD1050','CA',4810,0.577),\n",
    "('ABCD1051','CA',2418,0.592),\n",
    "('ABCD1052','CA',1778,0.132),\n",
    "('ABCD1053','CA',4495,0.112),\n",
    "('ABCD1054','CA',2814,0.221),\n",
    "('ABCD1055','CA',4269,0.113),\n",
    "('ABCD1056','CA',2547,0.484),\n",
    "('ABCD1057','CA',2115,0.854),\n",
    "('ABCD1058','CA',1905,0.544),\n",
    "('ABCD1059','CA',4949,0.44),\n",
    "('ABCD1060','CA',2178,0.044),\n",
    "('ABCD1061','CA',4379,0.66),\n",
    "('ABCD1062','CA',1898,0.24),\n",
    "('ABCD1063','CA',4548,0.621),\n",
    "('ABCD1064','CA',4280,0.37),\n",
    "('ABCD1065','CA',3398,0.059),\n",
    "('ABCD1066','CA',4106,0.289),\n",
    "('ABCD1067','CA',1911,0.892),\n",
    "('ABCD1068','CA',3143,0.264),\n",
    "('ABCD1069','CA',1426,0.948),\n",
    "('ABCD1070','CA',3271,0.598),\n",
    "('ABCD1071','CA',2584,0.88),\n",
    "('ABCD1072','CA',1777,0.344),\n",
    "('ABCD1073','CA',3896,0.857),\n",
    "('ABCD1074','CA',1739,0.886),\n",
    "('ABCD1075','CA',3410,0.232),\n",
    "('ABCD1076','CA',4004,0.335),\n",
    "('ABCD1077','CA',1462,0.045),\n",
    "('ABCD1078','CA',4983,0.464),\n",
    "('ABCD1079','CA',4224,0.963),\n",
    "('ABCD1080','CA',4653,0.771),\n",
    "('ABCD1081','CA',1080,0.951),\n",
    "('ABCD1082','CA',4517,0.533),\n",
    "('ABCD1083','CA',2217,0.804),\n",
    "('ABCD1084','CA',2804,0.934),\n",
    "('ABCD1085','CA',2192,0.602),\n",
    "('ABCD1086','CA',4516,0.933),\n",
    "('ABCD1087','CA',3345,0.015),\n",
    "('ABCD1088','CA',4093,0.449),\n",
    "('ABCD1089','CA',3137,0.188),\n",
    "('ABCD1090','CA',4611,0.124),\n",
    "('ABCD1091','CA',4863,0.744),\n",
    "('ABCD1092','CA',2465,0.282),\n",
    "('ABCD1093','CA',1368,0.342),\n",
    "('ABCD1094','CA',3803,0.34),\n",
    "('ABCD1095','CA',4309,0.44),\n",
    "('ABCD1096','CA',1492,0.831),\n",
    "('ABCD1097','CA',3330,0.653),\n",
    "('ABCD1098','CA',1749,0.778),\n",
    "('ABCD1099','CA',4692,0.075),\n",
    "('ABCD1100','NY',1479,0.923),\n",
    "('ABCD1101','NY',3338,0.532),\n",
    "('ABCD1102','NY',3156,0.828),\n",
    "('ABCD1103','NY',3279,0.013),\n",
    "('ABCD1104','NY',4041,0.518),\n",
    "('ABCD1105','NY',3138,0.091),\n",
    "('ABCD1106','NY',2681,0.328),\n",
    "('ABCD1107','NY',3354,0.508),\n",
    "('ABCD1108','NY',4803,0.07),\n",
    "('ABCD1109','NY',3715,0.411),\n",
    "('ABCD1110','NY',3848,0.958),\n",
    "('ABCD1111','NY',4243,0.598),\n",
    "('ABCD1112','NY',3673,0.784),\n",
    "('ABCD1113','NY',2506,0.387),\n",
    "('ABCD1114','NY',2833,0.529),\n",
    "('ABCD1115','NY',3494,0.52),\n",
    "('ABCD1116','NY',3649,0.821),\n",
    "('ABCD1117','NY',4903,0.978),\n",
    "('ABCD1118','NY',3666,0.162),\n",
    "('ABCD1119','NY',1176,0.668),\n",
    "('ABCD1120','NY',3652,0.603),\n",
    "('ABCD1121','NY',4009,0.969),\n",
    "('ABCD1122','NY',2700,0.138),\n",
    "('ABCD1123','NY',3612,0.005),\n",
    "('ABCD1124','NY',2755,0.561),\n",
    "('ABCD1125','NY',1904,0.966),\n",
    "('ABCD1126','NY',2632,0.621),\n",
    "('ABCD1127','NY',1973,0.937),\n",
    "('ABCD1128','NY',4540,0.818),\n",
    "('ABCD1129','NY',1988,0.54),\n",
    "('ABCD1130','NY',1072,0.012),\n",
    "('ABCD1131','NY',2135,0.233),\n",
    "('ABCD1132','NY',1331,0.152),\n",
    "('ABCD1133','NY',3007,0.588),\n",
    "('ABCD1134','NY',4137,0.016),\n",
    "('ABCD1135','NY',3437,0.79),\n",
    "('ABCD1136','NY',2558,0.595),\n",
    "('ABCD1137','NY',1972,0.783),\n",
    "('ABCD1138','NY',3132,0.464),\n",
    "('ABCD1139','NY',2649,0.206),\n",
    "('ABCD1140','NY',3353,0.711),\n",
    "('ABCD1141','NY',3731,0.835),\n",
    "('ABCD1142','NY',4142,0.793),\n",
    "('ABCD1143','NY',3079,0.242),\n",
    "('ABCD1144','NY',4391,0.753),\n",
    "('ABCD1145','NY',3121,0.384),\n",
    "('ABCD1146','NY',4819,0.434),\n",
    "('ABCD1147','NY',2857,0.603),\n",
    "('ABCD1148','NY',4870,0.541),\n",
    "('ABCD1149','NY',4183,0.341),\n",
    "('ABCD1150','NY',1997,0.031),\n",
    "('ABCD1151','NY',2874,0.959),\n",
    "('ABCD1152','NY',1494,0.643),\n",
    "('ABCD1153','NY',1385,0.793),\n",
    "('ABCD1154','NY',2956,0.54),\n",
    "('ABCD1155','NY',2139,0.445),\n",
    "('ABCD1156','NY',1238,0.25),\n",
    "('ABCD1157','NY',4017,0.645),\n",
    "('ABCD1158','NY',2958,0.276),\n",
    "('ABCD1159','NY',4794,0.016),\n",
    "('ABCD1160','NY',3953,0.171),\n",
    "('ABCD1161','NY',3332,0.101),\n",
    "('ABCD1162','NY',2854,0.218),\n",
    "('ABCD1163','NY',3296,0.057),\n",
    "('ABCD1164','NY',3813,0.721),\n",
    "('ABCD1165','NY',4271,0.64),\n",
    "('ABCD1166','NY',2521,0.564),\n",
    "('ABCD1167','NY',2692,0.103),\n",
    "('ABCD1168','NY',3173,0.414),\n",
    "('ABCD1169','NY',2981,0.574),\n",
    "('ABCD1170','NY',1827,0.2),\n",
    "('ABCD1171','NY',1622,0.531),\n",
    "('ABCD1172','NY',2902,0.883),\n",
    "('ABCD1173','NY',2887,0.036),\n",
    "('ABCD1174','NY',3547,0.44),\n",
    "('ABCD1175','NY',4331,0.71),\n",
    "('ABCD1176','NY',2501,0.84),\n",
    "('ABCD1177','NY',2705,0.563),\n",
    "('ABCD1178','NY',4471,0.402),\n",
    "('ABCD1179','NY',2917,0.167),\n",
    "('ABCD1180','NY',2026,0.915),\n",
    "('ABCD1181','NY',4174,0.271),\n",
    "('ABCD1182','NY',4839,0.854),\n",
    "('ABCD1183','NY',3105,0.048),\n",
    "('ABCD1184','NY',1666,0.884),\n",
    "('ABCD1185','NY',1283,0.002),\n",
    "('ABCD1186','NY',4879,0.404),\n",
    "('ABCD1187','NY',3722,0.976),\n",
    "('ABCD1188','NY',2158,0.505),\n",
    "('ABCD1189','NY',3577,0.982),\n",
    "('ABCD1190','NY',3451,0.938),\n",
    "('ABCD1191','NY',4179,0.756),\n",
    "('ABCD1192','NY',1249,0.375),\n",
    "('ABCD1193','NY',2660,0.262),\n",
    "('ABCD1194','NY',1242,0.919),\n",
    "('ABCD1195','NY',1036,0.063),\n",
    "('ABCD1196','NY',2994,0.973),\n",
    "('ABCD1197','NY',3753,0.409),\n",
    "('ABCD1198','NY',2246,0.668),\n",
    "('ABCD1199','NY',2335,0.879),\n",
    "('ABCD1200','FL',3271,0.629),\n",
    "('ABCD1201','FL',4033,0.505),\n",
    "('ABCD1202','FL',1083,0.902),\n",
    "('ABCD1203','FL',2188,0.799),\n",
    "('ABCD1204','FL',3340,0.774),\n",
    "('ABCD1205','FL',2986,0.029),\n",
    "('ABCD1206','FL',2971,0.461),\n",
    "('ABCD1207','FL',1275,0.09),\n",
    "('ABCD1208','FL',4215,0.265),\n",
    "('ABCD1209','FL',4061,0.919),\n",
    "('ABCD1210','FL',3410,0.075),\n",
    "('ABCD1211','FL',3564,0.415),\n",
    "('ABCD1212','FL',2956,0.919),\n",
    "('ABCD1213','FL',2482,0.319),\n",
    "('ABCD1214','FL',2113,0.394),\n",
    "('ABCD1215','FL',2675,0.72),\n",
    "('ABCD1216','FL',3978,0.492),\n",
    "('ABCD1217','FL',1729,0.167),\n",
    "('ABCD1218','FL',1419,0.961),\n",
    "('ABCD1219','FL',4553,0.242),\n",
    "('ABCD1220','FL',2561,0.208),\n",
    "('ABCD1221','FL',2220,0.608),\n",
    "('ABCD1222','FL',2392,0.988),\n",
    "('ABCD1223','FL',1002,0.734),\n",
    "('ABCD1224','FL',2674,0.325),\n",
    "('ABCD1225','FL',1962,0.81),\n",
    "('ABCD1226','FL',4160,0.536),\n",
    "('ABCD1227','FL',2687,0.911),\n",
    "('ABCD1228','FL',2792,0.081),\n",
    "('ABCD1229','FL',2788,0.062),\n",
    "('ABCD1230','FL',2560,0.923),\n",
    "('ABCD1231','FL',4774,0.577),\n",
    "('ABCD1232','FL',3178,0.76),\n",
    "('ABCD1233','FL',1476,0.582),\n",
    "('ABCD1234','FL',2786,0.688),\n",
    "('ABCD1235','FL',3957,0.015),\n",
    "('ABCD1236','FL',1730,0.322),\n",
    "('ABCD1237','FL',2522,0.016),\n",
    "('ABCD1238','FL',1541,0.215),\n",
    "('ABCD1239','FL',4199,0.211),\n",
    "('ABCD1240','FL',1263,0.114),\n",
    "('ABCD1241','FL',4057,0.455),\n",
    "('ABCD1242','FL',3310,0.291),\n",
    "('ABCD1243','FL',3562,0.542),\n",
    "('ABCD1244','FL',3037,0.382),\n",
    "('ABCD1245','FL',4315,0.322),\n",
    "('ABCD1246','FL',2494,0.19),\n",
    "('ABCD1247','FL',1138,0.917),\n",
    "('ABCD1248','FL',4636,0.506),\n",
    "('ABCD1249','FL',4301,0.755),\n",
    "('ABCD1250','FL',2537,0.71),\n",
    "('ABCD1251','FL',1705,0.769),\n",
    "('ABCD1252','FL',4537,0.141),\n",
    "('ABCD1253','FL',2317,0.087),\n",
    "('ABCD1254','FL',4475,0.334),\n",
    "('ABCD1255','FL',2250,0.226),\n",
    "('ABCD1256','FL',3800,0.362),\n",
    "('ABCD1257','FL',3273,0.057),\n",
    "('ABCD1258','FL',3384,0.673),\n",
    "('ABCD1259','FL',3654,0.284),\n",
    "('ABCD1260','FL',2382,0.654),\n",
    "('ABCD1261','FL',2948,0.211),\n",
    "('ABCD1262','FL',1052,0.079),\n",
    "('ABCD1263','FL',1325,0.083),\n",
    "('ABCD1264','FL',3621,0.016),\n",
    "('ABCD1265','FL',4140,0.345),\n",
    "('ABCD1266','FL',1766,0.79),\n",
    "('ABCD1267','FL',3487,0.829),\n",
    "('ABCD1268','FL',4742,0.078),\n",
    "('ABCD1269','FL',4238,0.428),\n",
    "('ABCD1270','FL',4491,0.433),\n",
    "('ABCD1271','FL',1121,0.445),\n",
    "('ABCD1272','FL',3840,0.033),\n",
    "('ABCD1273','FL',4116,0.409),\n",
    "('ABCD1274','FL',4240,0.872),\n",
    "('ABCD1275','FL',4110,0.081),\n",
    "('ABCD1276','FL',3113,0.552),\n",
    "('ABCD1277','FL',2057,0.923),\n",
    "('ABCD1278','FL',1229,0.748),\n",
    "('ABCD1279','FL',1800,0.412),\n",
    "('ABCD1280','FL',4875,0.477),\n",
    "('ABCD1281','FL',3957,0.275),\n",
    "('ABCD1282','FL',1499,0.806),\n",
    "('ABCD1283','FL',2923,0.446),\n",
    "('ABCD1284','FL',1366,0.176),\n",
    "('ABCD1285','FL',2146,0.87),\n",
    "('ABCD1286','FL',4549,0.519),\n",
    "('ABCD1287','FL',3081,0.537),\n",
    "('ABCD1288','FL',2513,0.763),\n",
    "('ABCD1289','FL',1230,0.014),\n",
    "('ABCD1290','FL',2823,0.498),\n",
    "('ABCD1291','FL',2581,0.939),\n",
    "('ABCD1292','FL',4203,0.488),\n",
    "('ABCD1293','FL',4780,0.287),\n",
    "('ABCD1294','FL',1727,0.027),\n",
    "('ABCD1295','FL',4294,0.87),\n",
    "('ABCD1296','FL',2331,0.153),\n",
    "('ABCD1297','FL',2388,0.851),\n",
    "('ABCD1298','FL',1487,0.655),\n",
    "('ABCD1299','FL',2719,0.095),\n",
    "('ABCD1300','TX',4092,0.336),\n",
    "('ABCD1301','TX',3430,0.072),\n",
    "('ABCD1302','TX',3660,0.351),\n",
    "('ABCD1303','TX',2403,0.676),\n",
    "('ABCD1304','TX',1407,0.996),\n",
    "('ABCD1305','TX',2193,0.752),\n",
    "('ABCD1306','TX',3661,0.648),\n",
    "('ABCD1307','TX',2782,0.366),\n",
    "('ABCD1308','TX',2734,0.436),\n",
    "('ABCD1309','TX',3548,0.285),\n",
    "('ABCD1310','TX',1776,0.288),\n",
    "('ABCD1311','TX',3575,0.732),\n",
    "('ABCD1312','TX',2643,0.125),\n",
    "('ABCD1313','TX',2607,0.126),\n",
    "('ABCD1314','TX',4044,0.423),\n",
    "('ABCD1315','TX',3105,0.727),\n",
    "('ABCD1316','TX',2257,0.212),\n",
    "('ABCD1317','TX',3044,0.658),\n",
    "('ABCD1318','TX',2690,0.8),\n",
    "('ABCD1319','TX',3642,0.762),\n",
    "('ABCD1320','TX',1149,0.124),\n",
    "('ABCD1321','TX',2321,0.024),\n",
    "('ABCD1322','TX',3122,0.355),\n",
    "('ABCD1323','TX',3052,0.23),\n",
    "('ABCD1324','TX',1107,0.796),\n",
    "('ABCD1325','TX',3113,0.822),\n",
    "('ABCD1326','TX',2014,0.328),\n",
    "('ABCD1327','TX',1225,0.461),\n",
    "('ABCD1328','TX',2596,0.375),\n",
    "('ABCD1329','TX',1094,0.059),\n",
    "('ABCD1330','TX',2284,0.851),\n",
    "('ABCD1331','TX',3778,0.436),\n",
    "('ABCD1332','TX',4192,0.479),\n",
    "('ABCD1333','TX',2110,0.667),\n",
    "('ABCD1334','TX',1180,0.668),\n",
    "('ABCD1335','TX',2586,0.699),\n",
    "('ABCD1336','TX',2582,0.074),\n",
    "('ABCD1337','TX',3645,0.236),\n",
    "('ABCD1338','TX',4872,0.435),\n",
    "('ABCD1339','TX',4788,0.383),\n",
    "('ABCD1340','TX',2390,0.093),\n",
    "('ABCD1341','TX',3325,0.822),\n",
    "('ABCD1342','TX',3041,0.746),\n",
    "('ABCD1343','TX',3865,0.681),\n",
    "('ABCD1344','TX',3135,0.591),\n",
    "('ABCD1345','TX',1752,0.264),\n",
    "('ABCD1346','TX',4634,0.611),\n",
    "('ABCD1347','TX',3632,0.237),\n",
    "('ABCD1348','TX',3358,0.329),\n",
    "('ABCD1349','TX',2350,0.266),\n",
    "('ABCD1350','TX',4870,0.932),\n",
    "('ABCD1351','TX',1870,0.239),\n",
    "('ABCD1352','TX',2329,0.489),\n",
    "('ABCD1353','TX',1764,0.715),\n",
    "('ABCD1354','TX',4338,0.48),\n",
    "('ABCD1355','TX',1655,0.049),\n",
    "('ABCD1356','TX',4881,0.459),\n",
    "('ABCD1357','TX',3163,0.793),\n",
    "('ABCD1358','TX',3125,0.455),\n",
    "('ABCD1359','TX',4164,0.568),\n",
    "('ABCD1360','TX',1176,0.064),\n",
    "('ABCD1361','TX',4950,0.999),\n",
    "('ABCD1362','TX',4416,0.403),\n",
    "('ABCD1363','TX',4103,0.96),\n",
    "('ABCD1364','TX',1417,0.728),\n",
    "('ABCD1365','TX',2479,0.327),\n",
    "('ABCD1366','TX',2453,0.968),\n",
    "('ABCD1367','TX',3212,0.285),\n",
    "('ABCD1368','TX',4394,0.207),\n",
    "('ABCD1369','TX',3332,0.248),\n",
    "('ABCD1370','TX',3762,0.826),\n",
    "('ABCD1371','TX',4866,0.523),\n",
    "('ABCD1372','TX',1650,0.364),\n",
    "('ABCD1373','TX',3408,0.583),\n",
    "('ABCD1374','TX',4215,0.781),\n",
    "('ABCD1375','TX',4969,0.708),\n",
    "('ABCD1376','TX',3237,0.131),\n",
    "('ABCD1377','TX',3297,0.771),\n",
    "('ABCD1378','TX',3959,0.377),\n",
    "('ABCD1379','TX',3399,0.256),\n",
    "('ABCD1380','TX',1050,0.021),\n",
    "('ABCD1381','TX',3950,0.875),\n",
    "('ABCD1382','TX',2898,0.731),\n",
    "('ABCD1383','TX',3709,0.626),\n",
    "('ABCD1384','TX',3610,0.533),\n",
    "('ABCD1385','TX',2056,0.082),\n",
    "('ABCD1386','TX',4311,0.963),\n",
    "('ABCD1387','TX',4298,0.309),\n",
    "('ABCD1388','TX',1528,0.073),\n",
    "('ABCD1389','TX',4874,0.124),\n",
    "('ABCD1390','TX',2274,0.531),\n",
    "('ABCD1391','TX',4172,0.084),\n",
    "('ABCD1392','TX',4139,0.683),\n",
    "('ABCD1393','TX',4397,0.168),\n",
    "('ABCD1394','TX',3171,0.85),\n",
    "('ABCD1395','TX',1715,0.79),\n",
    "('ABCD1396','TX',2535,0.926),\n",
    "('ABCD1397','TX',2358,0.761),\n",
    "('ABCD1398','TX',3191,0.978),\n",
    "('ABCD1399','TX',3107,0.416),\n",
    "('ABCD1400','TX',3922,0.593)\n",
    "])\n",
    "\n",
    "my_schema = StructType([ \n",
    "                        StructField('policy_num',StringType()),\n",
    "                        StructField('state',StringType()),\n",
    "                        StructField('claim_cost',IntegerType()),\n",
    "                        StructField('fraud_score',FloatType())\n",
    "])\n",
    "\n",
    "fraud_score_df = spark.createDataFrame(my_data,my_schema)"
   ]
  },
  {
   "cell_type": "code",
   "execution_count": 0,
   "metadata": {
    "application/vnd.databricks.v1+cell": {
     "cellMetadata": {
      "byteLimit": 2048000,
      "rowLimit": 10000
     },
     "inputWidgets": {},
     "nuid": "eb8e57ba-65d6-49b5-a58a-9e65a836a9d3",
     "showTitle": false,
     "title": ""
    },
    "jupyter": {
     "source_hidden": true
    }
   },
   "outputs": [
    {
     "output_type": "stream",
     "name": "stdout",
     "output_type": "stream",
     "text": [
      "+----------+-----+----------+-----------+\n|policy_num|state|claim_cost|fraud_score|\n+----------+-----+----------+-----------+\n|  ABCD1001|   CA|      4113|      0.613|\n|  ABCD1002|   CA|      3946|      0.156|\n|  ABCD1003|   CA|      4335|      0.014|\n|  ABCD1004|   CA|      3967|      0.142|\n|  ABCD1005|   CA|      1599|      0.889|\n+----------+-----+----------+-----------+\nonly showing top 5 rows\n\nroot\n |-- policy_num: string (nullable = true)\n |-- state: string (nullable = true)\n |-- claim_cost: integer (nullable = true)\n |-- fraud_score: float (nullable = true)\n\n"
     ]
    }
   ],
   "source": [
    "fraud_score_df.show(5)\n",
    "fraud_score_df.printSchema()"
   ]
  },
  {
   "cell_type": "code",
   "execution_count": 0,
   "metadata": {
    "application/vnd.databricks.v1+cell": {
     "cellMetadata": {
      "byteLimit": 2048000,
      "rowLimit": 10000
     },
     "inputWidgets": {},
     "nuid": "55cf4cf8-ad8f-40cd-9c4e-18a9c962946f",
     "showTitle": false,
     "title": ""
    }
   },
   "outputs": [],
   "source": [
    "window = Window.partitionBy(col('state')).orderBy(col('fraud_score').desc())\n",
    "\n",
    "result = fraud_score_df.withColumn('rank',rank().over(window))\\\n",
    "              .withColumn('rnk_filter',ceil(max(col('rank')).over(Window.partitionBy(col('state')))*0.05))\\\n",
    "              .filter(col('rank')<=col('rnk_filter'))"
   ]
  },
  {
   "cell_type": "code",
   "execution_count": 0,
   "metadata": {
    "application/vnd.databricks.v1+cell": {
     "cellMetadata": {
      "byteLimit": 2048000,
      "rowLimit": 10000
     },
     "inputWidgets": {},
     "nuid": "7b1ad463-2ad4-43bc-9c6d-8ede1985f1cc",
     "showTitle": false,
     "title": ""
    }
   },
   "outputs": [
    {
     "output_type": "stream",
     "name": "stdout",
     "output_type": "stream",
     "text": [
      "+----------+-----+----------+-----------+\n|policy_num|state|claim_cost|fraud_score|\n+----------+-----+----------+-----------+\n|  ABCD1027|   CA|      2663|      0.988|\n|  ABCD1016|   CA|      1639|      0.964|\n|  ABCD1079|   CA|      4224|      0.963|\n|  ABCD1081|   CA|      1080|      0.951|\n|  ABCD1069|   CA|      1426|      0.948|\n|  ABCD1222|   FL|      2392|      0.988|\n|  ABCD1218|   FL|      1419|      0.961|\n|  ABCD1291|   FL|      2581|      0.939|\n|  ABCD1230|   FL|      2560|      0.923|\n|  ABCD1277|   FL|      2057|      0.923|\n|  ABCD1189|   NY|      3577|      0.982|\n|  ABCD1117|   NY|      4903|      0.978|\n|  ABCD1187|   NY|      3722|      0.976|\n|  ABCD1196|   NY|      2994|      0.973|\n|  ABCD1121|   NY|      4009|      0.969|\n|  ABCD1361|   TX|      4950|      0.999|\n|  ABCD1304|   TX|      1407|      0.996|\n|  ABCD1398|   TX|      3191|      0.978|\n|  ABCD1366|   TX|      2453|      0.968|\n|  ABCD1386|   TX|      4311|      0.963|\n|  ABCD1363|   TX|      4103|       0.96|\n+----------+-----+----------+-----------+\n\n"
     ]
    }
   ],
   "source": [
    "result.select('policy_num','state','claim_cost','fraud_score').show(50)"
   ]
  },
  {
   "cell_type": "markdown",
   "metadata": {
    "application/vnd.databricks.v1+cell": {
     "cellMetadata": {},
     "inputWidgets": {},
     "nuid": "58f41d25-f3f5-4ff6-8307-a4e9e9e5300b",
     "showTitle": false,
     "title": ""
    }
   },
   "source": [
    "#### Spark_SQL"
   ]
  },
  {
   "cell_type": "code",
   "execution_count": 0,
   "metadata": {
    "application/vnd.databricks.v1+cell": {
     "cellMetadata": {
      "byteLimit": 2048000,
      "rowLimit": 10000
     },
     "inputWidgets": {},
     "nuid": "cce9bb91-1485-45ae-82ad-402841696ea7",
     "showTitle": false,
     "title": ""
    }
   },
   "outputs": [],
   "source": [
    "fraud_score_df.createOrReplaceTempView('fraud_score_Table')"
   ]
  },
  {
   "cell_type": "code",
   "execution_count": 0,
   "metadata": {
    "application/vnd.databricks.v1+cell": {
     "cellMetadata": {
      "byteLimit": 2048000,
      "rowLimit": 10000
     },
     "inputWidgets": {},
     "nuid": "b6c4330b-b9c3-44be-b704-3442eb5175fa",
     "showTitle": false,
     "title": ""
    }
   },
   "outputs": [
    {
     "output_type": "stream",
     "name": "stdout",
     "output_type": "stream",
     "text": [
      "+----------+-----+----------+-----------+\n|policy_num|state|claim_cost|fraud_score|\n+----------+-----+----------+-----------+\n|  ABCD1027|   CA|      2663|      0.988|\n|  ABCD1016|   CA|      1639|      0.964|\n|  ABCD1079|   CA|      4224|      0.963|\n|  ABCD1081|   CA|      1080|      0.951|\n|  ABCD1069|   CA|      1426|      0.948|\n|  ABCD1222|   FL|      2392|      0.988|\n|  ABCD1218|   FL|      1419|      0.961|\n|  ABCD1291|   FL|      2581|      0.939|\n|  ABCD1230|   FL|      2560|      0.923|\n|  ABCD1277|   FL|      2057|      0.923|\n|  ABCD1189|   NY|      3577|      0.982|\n|  ABCD1117|   NY|      4903|      0.978|\n|  ABCD1187|   NY|      3722|      0.976|\n|  ABCD1196|   NY|      2994|      0.973|\n|  ABCD1121|   NY|      4009|      0.969|\n|  ABCD1361|   TX|      4950|      0.999|\n|  ABCD1304|   TX|      1407|      0.996|\n|  ABCD1398|   TX|      3191|      0.978|\n|  ABCD1366|   TX|      2453|      0.968|\n|  ABCD1386|   TX|      4311|      0.963|\n+----------+-----+----------+-----------+\nonly showing top 20 rows\n\n"
     ]
    }
   ],
   "source": [
    "spark.sql(\"\"\"\n",
    "        select \n",
    "        policy_num,\n",
    "        state,\n",
    "        claim_cost,\n",
    "        fraud_score\n",
    "        from (  select * ,\n",
    "            ceil(((count(*) over(partition by state))*0.05)) as select_rnk ,\n",
    "            rank() over(partition by state order by fraud_score desc) as rnk\n",
    "            from fraud_score_Table\n",
    "            ) as T\n",
    "        where rnk <= select_rnk ;\n",
    "\n",
    "          \"\"\").show()"
   ]
  },
  {
   "cell_type": "markdown",
   "metadata": {
    "application/vnd.databricks.v1+cell": {
     "cellMetadata": {},
     "inputWidgets": {},
     "nuid": "2e7dc12e-b640-48a0-91bb-21aa17243360",
     "showTitle": false,
     "title": ""
    }
   },
   "source": [
    "## 3. Premium vs Freemium\n",
    "\n",
    "Q. Find the total number of downloads for paying and non-paying users by date. Include only records where non-paying customers have more downloads than paying customers. The output should be sorted by earliest date first and contain 3 columns date, non-paying downloads, paying downloads.    \n",
    "[link](https://platform.stratascratch.com/coding/10300-premium-vs-freemium?code_type=3)\n",
    "##### Expected Output\n",
    "![Expected Output](files/tables/images/i1.png)"
   ]
  },
  {
   "cell_type": "markdown",
   "metadata": {
    "application/vnd.databricks.v1+cell": {
     "cellMetadata": {},
     "inputWidgets": {},
     "nuid": "6fdf6c1e-4677-438b-a5e4-a454e26dfd2b",
     "showTitle": false,
     "title": ""
    }
   },
   "source": [
    "#### Spark-Dataframe API"
   ]
  },
  {
   "cell_type": "code",
   "execution_count": 0,
   "metadata": {
    "application/vnd.databricks.v1+cell": {
     "cellMetadata": {
      "byteLimit": 2048000,
      "rowLimit": 10000
     },
     "inputWidgets": {},
     "nuid": "fe31d48f-41a3-4e1d-a1e2-247701a1f8ef",
     "showTitle": false,
     "title": ""
    },
    "jupyter": {
     "source_hidden": true
    }
   },
   "outputs": [],
   "source": [
    "my_data1 = ([\n",
    "(1,716),\n",
    "(2,749),\n",
    "(3,713),\n",
    "(4,744),\n",
    "(5,726),\n",
    "(6,706),\n",
    "(7,750),\n",
    "(8,732),\n",
    "(9,706),\n",
    "(10,729),\n",
    "(11,748),\n",
    "(12,731),\n",
    "(13,739),\n",
    "(14,740),\n",
    "(15,705),\n",
    "(16,706),\n",
    "(17,701),\n",
    "(18,746),\n",
    "(19,726),\n",
    "(20,748),\n",
    "(21,701),\n",
    "(22,707),\n",
    "(23,710),\n",
    "(24,702),\n",
    "(25,720),\n",
    "(26,730),\n",
    "(27,721),\n",
    "(28,733),\n",
    "(29,732),\n",
    "(30,729),\n",
    "(31,716),\n",
    "(32,722),\n",
    "(33,745),\n",
    "(34,737),\n",
    "(35,730),\n",
    "(36,729),\n",
    "(37,723),\n",
    "(38,710),\n",
    "(39,707),\n",
    "(40,737),\n",
    "(41,717),\n",
    "(42,741),\n",
    "(43,718),\n",
    "(44,736),\n",
    "(45,720),\n",
    "(46,743),\n",
    "(47,707),\n",
    "(48,721),\n",
    "(49,748),\n",
    "(50,715),\n",
    "(51,709),\n",
    "(52,732),\n",
    "(53,732),\n",
    "(54,712),\n",
    "(55,701),\n",
    "(56,721),\n",
    "(57,744),\n",
    "(58,724),\n",
    "(59,727),\n",
    "(60,743),\n",
    "(61,744),\n",
    "(62,717),\n",
    "(63,723),\n",
    "(64,713),\n",
    "(65,706),\n",
    "(66,731),\n",
    "(67,722),\n",
    "(68,744),\n",
    "(69,705),\n",
    "(70,703),\n",
    "(71,725),\n",
    "(72,740),\n",
    "(73,713),\n",
    "(74,732),\n",
    "(75,720),\n",
    "(76,709),\n",
    "(77,739),\n",
    "(78,703),\n",
    "(79,732),\n",
    "(80,728),\n",
    "(81,737),\n",
    "(82,711),\n",
    "(83,745),\n",
    "(84,734),\n",
    "(85,723),\n",
    "(86,718),\n",
    "(87,702),\n",
    "(88,718),\n",
    "(89,744),\n",
    "(90,710),\n",
    "(91,727),\n",
    "(92,739),\n",
    "(93,728),\n",
    "(94,740),\n",
    "(95,744),\n",
    "(96,737),\n",
    "(97,726),\n",
    "(98,722),\n",
    "(99,727),\n",
    "(100,712)\n",
    "])\n",
    "\n",
    "my_schema1 = StructType([\n",
    "                            StructField('user_id',StringType()),\n",
    "                            StructField('acc_id',StringType())\n",
    "                        ])\n",
    "\n",
    "my_data2 = ([\n",
    "(700,'no'),\n",
    "(701,'no'),\n",
    "(702,'no'),\n",
    "(703,'no'),\n",
    "(704,'no'),\n",
    "(705,'no'),\n",
    "(706,'no'),\n",
    "(707,'no'),\n",
    "(708,'no'),\n",
    "(709,'no'),\n",
    "(710,'no'),\n",
    "(711,'no'),\n",
    "(712,'no'),\n",
    "(713,'no'),\n",
    "(714,'no'),\n",
    "(715,'no'),\n",
    "(716,'no'),\n",
    "(717,'no'),\n",
    "(718,'no'),\n",
    "(719,'no'),\n",
    "(720,'no'),\n",
    "(721,'no'),\n",
    "(722,'no'),\n",
    "(723,'no'),\n",
    "(724,'no'),\n",
    "(725,'yes'),\n",
    "(726,'yes'),\n",
    "(727,'yes'),\n",
    "(728,'yes'),\n",
    "(729,'yes'),\n",
    "(730,'yes'),\n",
    "(731,'yes'),\n",
    "(732,'yes'),\n",
    "(733,'yes'),\n",
    "(734,'yes'),\n",
    "(735,'yes'),\n",
    "(736,'yes'),\n",
    "(737,'yes'),\n",
    "(738,'yes'),\n",
    "(739,'yes'),\n",
    "(740,'yes'),\n",
    "(741,'yes'),\n",
    "(742,'yes'),\n",
    "(743,'yes'),\n",
    "(744,'yes'),\n",
    "(745,'yes'),\n",
    "(746,'yes'),\n",
    "(747,'yes'),\n",
    "(748,'yes'),\n",
    "(749,'yes'),\n",
    "(750,'yes')\n",
    "])\n",
    "\n",
    "my_schema2 = StructType([\n",
    "                            StructField('acc_id',IntegerType()),\n",
    "                            StructField('paying_customer',StringType())\n",
    "                        ])\n",
    "\n",
    "my_data3 = ([\n",
    "(datetime.strptime('2020-08-24',\"%Y-%m-%d\"),1,6),\n",
    "(datetime.strptime('2020-08-22',\"%Y-%m-%d\"),2,6),\n",
    "(datetime.strptime('2020-08-18',\"%Y-%m-%d\"),3,2),\n",
    "(datetime.strptime('2020-08-24',\"%Y-%m-%d\"),4,4),\n",
    "(datetime.strptime('2020-08-19',\"%Y-%m-%d\"),5,7),\n",
    "(datetime.strptime('2020-08-21',\"%Y-%m-%d\"),6,3),\n",
    "(datetime.strptime('2020-08-24',\"%Y-%m-%d\"),7,1),\n",
    "(datetime.strptime('2020-08-24',\"%Y-%m-%d\"),8,8),\n",
    "(datetime.strptime('2020-08-17',\"%Y-%m-%d\"),9,5),\n",
    "(datetime.strptime('2020-08-16',\"%Y-%m-%d\"),10,4),\n",
    "(datetime.strptime('2020-08-22',\"%Y-%m-%d\"),11,8),\n",
    "(datetime.strptime('2020-08-19',\"%Y-%m-%d\"),12,6),\n",
    "(datetime.strptime('2020-08-15',\"%Y-%m-%d\"),13,3),\n",
    "(datetime.strptime('2020-08-21',\"%Y-%m-%d\"),14,0),\n",
    "(datetime.strptime('2020-08-24',\"%Y-%m-%d\"),15,0),\n",
    "(datetime.strptime('2020-08-15',\"%Y-%m-%d\"),16,5),\n",
    "(datetime.strptime('2020-08-18',\"%Y-%m-%d\"),17,5),\n",
    "(datetime.strptime('2020-08-23',\"%Y-%m-%d\"),18,8),\n",
    "(datetime.strptime('2020-08-15',\"%Y-%m-%d\"),19,6),\n",
    "(datetime.strptime('2020-08-25',\"%Y-%m-%d\"),20,4),\n",
    "(datetime.strptime('2020-08-16',\"%Y-%m-%d\"),21,1),\n",
    "(datetime.strptime('2020-08-25',\"%Y-%m-%d\"),22,4),\n",
    "(datetime.strptime('2020-08-22',\"%Y-%m-%d\"),23,7),\n",
    "(datetime.strptime('2020-08-21',\"%Y-%m-%d\"),24,4),\n",
    "(datetime.strptime('2020-08-25',\"%Y-%m-%d\"),25,5),\n",
    "(datetime.strptime('2020-08-23',\"%Y-%m-%d\"),26,6),\n",
    "(datetime.strptime('2020-08-19',\"%Y-%m-%d\"),27,9),\n",
    "(datetime.strptime('2020-08-24',\"%Y-%m-%d\"),28,3),\n",
    "(datetime.strptime('2020-08-20',\"%Y-%m-%d\"),29,0),\n",
    "(datetime.strptime('2020-08-25',\"%Y-%m-%d\"),30,8),\n",
    "(datetime.strptime('2020-08-20',\"%Y-%m-%d\"),31,5),\n",
    "(datetime.strptime('2020-08-21',\"%Y-%m-%d\"),32,8),\n",
    "(datetime.strptime('2020-08-15',\"%Y-%m-%d\"),33,6),\n",
    "(datetime.strptime('2020-08-24',\"%Y-%m-%d\"),34,4),\n",
    "(datetime.strptime('2020-08-25',\"%Y-%m-%d\"),35,1),\n",
    "(datetime.strptime('2020-08-24',\"%Y-%m-%d\"),36,7),\n",
    "(datetime.strptime('2020-08-17',\"%Y-%m-%d\"),37,8),\n",
    "(datetime.strptime('2020-08-16',\"%Y-%m-%d\"),38,8),\n",
    "(datetime.strptime('2020-08-17',\"%Y-%m-%d\"),39,1),\n",
    "(datetime.strptime('2020-08-20',\"%Y-%m-%d\"),40,8),\n",
    "(datetime.strptime('2020-08-18',\"%Y-%m-%d\"),41,3),\n",
    "(datetime.strptime('2020-08-16',\"%Y-%m-%d\"),42,0),\n",
    "(datetime.strptime('2020-08-23',\"%Y-%m-%d\"),43,9),\n",
    "(datetime.strptime('2020-08-25',\"%Y-%m-%d\"),44,9),\n",
    "(datetime.strptime('2020-08-16',\"%Y-%m-%d\"),45,2),\n",
    "(datetime.strptime('2020-08-15',\"%Y-%m-%d\"),46,2),\n",
    "(datetime.strptime('2020-08-21',\"%Y-%m-%d\"),47,1),\n",
    "(datetime.strptime('2020-08-21',\"%Y-%m-%d\"),48,4),\n",
    "(datetime.strptime('2020-08-22',\"%Y-%m-%d\"),49,8),\n",
    "(datetime.strptime('2020-08-17',\"%Y-%m-%d\"),50,6),\n",
    "(datetime.strptime('2020-08-21',\"%Y-%m-%d\"),51,4),\n",
    "(datetime.strptime('2020-08-20',\"%Y-%m-%d\"),52,7),\n",
    "(datetime.strptime('2020-08-16',\"%Y-%m-%d\"),53,7),\n",
    "(datetime.strptime('2020-08-20',\"%Y-%m-%d\"),54,6),\n",
    "(datetime.strptime('2020-08-20',\"%Y-%m-%d\"),55,0),\n",
    "(datetime.strptime('2020-08-21',\"%Y-%m-%d\"),56,8),\n",
    "(datetime.strptime('2020-08-18',\"%Y-%m-%d\"),57,5),\n",
    "(datetime.strptime('2020-08-17',\"%Y-%m-%d\"),58,2),\n",
    "(datetime.strptime('2020-08-24',\"%Y-%m-%d\"),59,3),\n",
    "(datetime.strptime('2020-08-20',\"%Y-%m-%d\"),60,7),\n",
    "(datetime.strptime('2020-08-22',\"%Y-%m-%d\"),61,8),\n",
    "(datetime.strptime('2020-08-15',\"%Y-%m-%d\"),62,6),\n",
    "(datetime.strptime('2020-08-23',\"%Y-%m-%d\"),63,3),\n",
    "(datetime.strptime('2020-08-17',\"%Y-%m-%d\"),64,4),\n",
    "(datetime.strptime('2020-08-16',\"%Y-%m-%d\"),65,4),\n",
    "(datetime.strptime('2020-08-16',\"%Y-%m-%d\"),66,3),\n",
    "(datetime.strptime('2020-08-19',\"%Y-%m-%d\"),67,1),\n",
    "(datetime.strptime('2020-08-18',\"%Y-%m-%d\"),68,2),\n",
    "(datetime.strptime('2020-08-17',\"%Y-%m-%d\"),69,4),\n",
    "(datetime.strptime('2020-08-22',\"%Y-%m-%d\"),70,7),\n",
    "(datetime.strptime('2020-08-20',\"%Y-%m-%d\"),71,6),\n",
    "(datetime.strptime('2020-08-15',\"%Y-%m-%d\"),72,2),\n",
    "(datetime.strptime('2020-08-17',\"%Y-%m-%d\"),73,7),\n",
    "(datetime.strptime('2020-08-22',\"%Y-%m-%d\"),74,1),\n",
    "(datetime.strptime('2020-08-17',\"%Y-%m-%d\"),75,8),\n",
    "(datetime.strptime('2020-08-19',\"%Y-%m-%d\"),76,0),\n",
    "(datetime.strptime('2020-08-25',\"%Y-%m-%d\"),77,1),\n",
    "(datetime.strptime('2020-08-25',\"%Y-%m-%d\"),78,0),\n",
    "(datetime.strptime('2020-08-17',\"%Y-%m-%d\"),79,8),\n",
    "(datetime.strptime('2020-08-23',\"%Y-%m-%d\"),80,7),\n",
    "(datetime.strptime('2020-08-24',\"%Y-%m-%d\"),81,2),\n",
    "(datetime.strptime('2020-08-21',\"%Y-%m-%d\"),82,0),\n",
    "(datetime.strptime('2020-08-24',\"%Y-%m-%d\"),83,4),\n",
    "(datetime.strptime('2020-08-21',\"%Y-%m-%d\"),84,0),\n",
    "(datetime.strptime('2020-08-25',\"%Y-%m-%d\"),85,7),\n",
    "(datetime.strptime('2020-08-22',\"%Y-%m-%d\"),86,1),\n",
    "(datetime.strptime('2020-08-20',\"%Y-%m-%d\"),87,2),\n",
    "(datetime.strptime('2020-08-19',\"%Y-%m-%d\"),88,3),\n",
    "(datetime.strptime('2020-08-22',\"%Y-%m-%d\"),89,8),\n",
    "(datetime.strptime('2020-08-24',\"%Y-%m-%d\"),90,0),\n",
    "(datetime.strptime('2020-08-22',\"%Y-%m-%d\"),91,9),\n",
    "(datetime.strptime('2020-08-25',\"%Y-%m-%d\"),92,7),\n",
    "(datetime.strptime('2020-08-25',\"%Y-%m-%d\"),93,0),\n",
    "(datetime.strptime('2020-08-17',\"%Y-%m-%d\"),94,1),\n",
    "(datetime.strptime('2020-08-23',\"%Y-%m-%d\"),95,2),\n",
    "(datetime.strptime('2020-08-24',\"%Y-%m-%d\"),96,3),\n",
    "(datetime.strptime('2020-08-21',\"%Y-%m-%d\"),97,8),\n",
    "(datetime.strptime('2020-08-24',\"%Y-%m-%d\"),98,0),\n",
    "(datetime.strptime('2020-08-21',\"%Y-%m-%d\"),99,9),\n",
    "(datetime.strptime('2020-08-25',\"%Y-%m-%d\"),100,7)\n",
    "])\n",
    "\n",
    "my_schema3 = StructType([\n",
    "                            StructField('date',DateType()),\n",
    "                            StructField('user_id',IntegerType()),\n",
    "                            StructField('downloads',IntegerType())\n",
    "                        ])\n",
    "\n",
    "\n",
    "ms_user_dimension_df = spark.createDataFrame(my_data1,my_schema1)\n",
    "\n",
    "ms_acc_dimension_df = spark.createDataFrame(my_data2,my_schema2)\n",
    "\n",
    "ms_download_facts = spark.createDataFrame(my_data3,my_schema3)"
   ]
  },
  {
   "cell_type": "code",
   "execution_count": 0,
   "metadata": {
    "application/vnd.databricks.v1+cell": {
     "cellMetadata": {
      "byteLimit": 2048000,
      "rowLimit": 10000
     },
     "inputWidgets": {},
     "nuid": "270409d3-62d5-44a3-929c-9a3ef203722d",
     "showTitle": false,
     "title": ""
    }
   },
   "outputs": [
    {
     "output_type": "stream",
     "name": "stdout",
     "output_type": "stream",
     "text": [
      "+-------+------+\n|user_id|acc_id|\n+-------+------+\n|      1|   716|\n|      2|   749|\n|      3|   713|\n|      4|   744|\n|      5|   726|\n+-------+------+\nonly showing top 5 rows\n\nroot\n |-- user_id: string (nullable = true)\n |-- acc_id: string (nullable = true)\n\n+------+---------------+\n|acc_id|paying_customer|\n+------+---------------+\n|   700|             no|\n|   701|             no|\n|   702|             no|\n|   703|             no|\n|   704|             no|\n+------+---------------+\nonly showing top 5 rows\n\nroot\n |-- acc_id: integer (nullable = true)\n |-- paying_customer: string (nullable = true)\n\n+----------+-------+---------+\n|      date|user_id|downloads|\n+----------+-------+---------+\n|2020-08-24|      1|        6|\n|2020-08-22|      2|        6|\n|2020-08-18|      3|        2|\n|2020-08-24|      4|        4|\n|2020-08-19|      5|        7|\n+----------+-------+---------+\nonly showing top 5 rows\n\nroot\n |-- date: date (nullable = true)\n |-- user_id: integer (nullable = true)\n |-- downloads: integer (nullable = true)\n\n"
     ]
    }
   ],
   "source": [
    "ms_user_dimension_df.show(5)\n",
    "ms_user_dimension_df.printSchema()\n",
    "\n",
    "ms_acc_dimension_df.show(5)\n",
    "ms_acc_dimension_df.printSchema()\n",
    "\n",
    "ms_download_facts.show(5)\n",
    "ms_download_facts.printSchema()"
   ]
  },
  {
   "cell_type": "code",
   "execution_count": 0,
   "metadata": {
    "application/vnd.databricks.v1+cell": {
     "cellMetadata": {
      "byteLimit": 2048000,
      "rowLimit": 10000
     },
     "inputWidgets": {},
     "nuid": "b8fd8bfc-bcfa-44b8-8498-a6ad9ac6d8a2",
     "showTitle": false,
     "title": ""
    }
   },
   "outputs": [],
   "source": [
    "result = ms_download_facts.join(ms_user_dimension_df ,ms_download_facts.user_id == ms_user_dimension_df.user_id, 'left' )\\\n",
    "        .join(ms_acc_dimension_df , ms_user_dimension_df.acc_id == ms_acc_dimension_df.acc_id, 'left')\\\n",
    "        .select('date',\n",
    "                ms_download_facts.user_id,\n",
    "                'downloads',\n",
    "                ms_user_dimension_df.acc_id,\n",
    "                'paying_customer').orderBy(col('date').asc())"
   ]
  },
  {
   "cell_type": "code",
   "execution_count": 0,
   "metadata": {
    "application/vnd.databricks.v1+cell": {
     "cellMetadata": {
      "byteLimit": 2048000,
      "rowLimit": 10000
     },
     "inputWidgets": {},
     "nuid": "82b5e9dd-dc50-4934-a29e-5a596da17176",
     "showTitle": false,
     "title": ""
    }
   },
   "outputs": [],
   "source": [
    "window = Window.partitionBy('date','paying_customer')\n",
    "result = result.withColumn('paying',sum('downloads').over(window)).select('date','downloads','paying_customer','paying')"
   ]
  },
  {
   "cell_type": "code",
   "execution_count": 0,
   "metadata": {
    "application/vnd.databricks.v1+cell": {
     "cellMetadata": {
      "byteLimit": 2048000,
      "rowLimit": 10000
     },
     "inputWidgets": {},
     "nuid": "95e3cb46-6ea6-4253-a1bc-494b2bba18e2",
     "showTitle": false,
     "title": ""
    }
   },
   "outputs": [],
   "source": [
    "result = result.drop('downloads')"
   ]
  },
  {
   "cell_type": "code",
   "execution_count": 0,
   "metadata": {
    "application/vnd.databricks.v1+cell": {
     "cellMetadata": {
      "byteLimit": 2048000,
      "rowLimit": 10000
     },
     "inputWidgets": {},
     "nuid": "670e6b11-e291-4e50-af29-fb7b37cc6111",
     "showTitle": false,
     "title": ""
    }
   },
   "outputs": [
    {
     "output_type": "stream",
     "name": "stdout",
     "output_type": "stream",
     "text": [
      "+----------+------+----------+\n|      date|paying|non_paying|\n+----------+------+----------+\n|2020-08-15|    19|        11|\n|2020-08-16|    14|        15|\n|2020-08-17|     9|        45|\n|2020-08-18|     7|        10|\n|2020-08-19|    13|        13|\n|2020-08-20|    28|        13|\n|2020-08-21|    17|        32|\n|2020-08-22|    48|        15|\n|2020-08-23|    23|        12|\n|2020-08-24|    39|         6|\n|2020-08-25|    30|        23|\n+----------+------+----------+\n\n"
     ]
    }
   ],
   "source": [
    "result.distinct().withColumn('non_paying',lag('paying',1)\n",
    "                             .over(Window.partitionBy('date').orderBy(col('paying_customer'))))\\\n",
    "                             .filter(col('paying_customer')=='yes').drop(col('paying_customer')).show()"
   ]
  },
  {
   "cell_type": "markdown",
   "metadata": {
    "application/vnd.databricks.v1+cell": {
     "cellMetadata": {},
     "inputWidgets": {},
     "nuid": "2dad4b04-b7c7-4594-966b-6128d4c414c5",
     "showTitle": false,
     "title": ""
    }
   },
   "source": [
    "## 4. Popularity Percentage\n",
    "\n",
    "Q. Find the popularity percentage for each user on Meta/Facebook. The popularity percentage is defined as the total number of friends the user has divided by the total number of users on the platform, then converted into a percentage by multiplying by 100.\n",
    "Output each user along with their popularity percentage. Order records in ascending order by user id.\n",
    "The 'user1' and 'user2' column are pairs of friends.    \n",
    "[link](https://platform.stratascratch.com/coding/10284-popularity-percentage?code_type=3)\n",
    "##### Expected Output\n",
    "![Expected Output]( /files/tables/i2-1.png)\n"
   ]
  },
  {
   "cell_type": "code",
   "execution_count": 0,
   "metadata": {
    "application/vnd.databricks.v1+cell": {
     "cellMetadata": {
      "byteLimit": 2048000,
      "rowLimit": 10000
     },
     "inputWidgets": {},
     "nuid": "827974a8-1ce5-45a6-828c-f4fc07234041",
     "showTitle": false,
     "title": ""
    },
    "jupyter": {
     "source_hidden": true
    }
   },
   "outputs": [],
   "source": [
    "my_data = ([\n",
    "(1,3),\n",
    "(4,1),\n",
    "(1,5),\n",
    "(1,6),\n",
    "(2,6),\n",
    "(7,2),\n",
    "(8,3),\n",
    "(3,9),\n",
    "])\n",
    "\n",
    "my_schema = StructType([\n",
    "    StructField('user1',IntegerType()),\n",
    "    StructField('user2',IntegerType())\n",
    "])\n",
    "\n",
    "facebook_friends_df = spark.createDataFrame(my_data,my_schema)"
   ]
  },
  {
   "cell_type": "markdown",
   "metadata": {
    "application/vnd.databricks.v1+cell": {
     "cellMetadata": {},
     "inputWidgets": {},
     "nuid": "fbae52c0-45a8-4fa8-8a66-8efbc5a6f4ed",
     "showTitle": false,
     "title": ""
    }
   },
   "source": [
    "## 5. Top 5 States With 5 Star Businesses\n",
    "\n",
    "Q. Find the top 5 states with the most 5 star businesses. Output the state name along with the number of 5-star businesses and order records by the number of 5-star businesses in descending order. In case there are ties in the number of businesses, return all the unique states. If two states have the same result, sort them in alphabetical order.     \n",
    "[Link](https://platform.stratascratch.com/coding/10046-top-5-states-with-5-star-businesses?code_type=3)\n",
    "##### Expected Output\n",
    "![Expected Output]( /files/tables/i3.png)\n"
   ]
  },
  {
   "cell_type": "code",
   "execution_count": 0,
   "metadata": {
    "application/vnd.databricks.v1+cell": {
     "cellMetadata": {
      "byteLimit": 2048000,
      "rowLimit": 10000
     },
     "inputWidgets": {},
     "nuid": "37119892-1f75-497e-a3c7-7902a50c07d6",
     "showTitle": false,
     "title": ""
    }
   },
   "outputs": [],
   "source": [
    "yelp_business_df = spark.read.format('csv')\\\n",
    "                   .option('header','true')\\\n",
    "                   .option('inferschema','true')\\\n",
    "                   .load('/FileStore/tables/five.csv')"
   ]
  },
  {
   "cell_type": "code",
   "execution_count": 0,
   "metadata": {
    "application/vnd.databricks.v1+cell": {
     "cellMetadata": {
      "byteLimit": 2048000,
      "rowLimit": 10000
     },
     "inputWidgets": {},
     "nuid": "d78ae01f-53d5-4cbf-9c2b-b4e28edb5497",
     "showTitle": false,
     "title": ""
    },
    "jupyter": {
     "outputs_hidden": true,
     "source_hidden": true
    }
   },
   "outputs": [
    {
     "output_type": "stream",
     "name": "stdout",
     "output_type": "stream",
     "text": [
      "+--------------------+--------------------+-------------+--------------------+---------------+----------+-----------+--------+---------+--------+------------+-------+--------------------+\n|         business_id|                name| neighborhood|             address|           city|     state|postal_code|latitude|longitude|   stars|review_count|is_open|          categories|\n+--------------------+--------------------+-------------+--------------------+---------------+----------+-----------+--------+---------+--------+------------+-------+--------------------+\n|G5ERFWvPfHy7IDAUY...|All Colors Mobile...|         null|     7137 N 28th Ave|        Phoenix|        AZ|      85051|  33.448| -112.074|     1.0|         4.0|      1|Auto Detailing;Au...|\n|0jDvRJS-z9zdMgOUX...|             Sunfare|         null|811 W Deer Valley Rd|        Phoenix|        AZ|      85027|  33.683| -112.085|     5.0|        27.0|      1|Personal Chefs;Fo...|\n|6HmDqeNNZtHMK0t2g...|     Dry Clean Vegas|    Southeast|    2550 Windmill Ln|        Ste 100| Las Vegas|         NV|   89123|   36.042|-115.118|         1.0|      4|                   1|\n|pbt3SBcEmxCfZPdnm...|   The Cuyahoga Room|         null|740 Munroe Falls Ave| Cuyahoga Falls|        OH|      44221|   41.14|  -81.472|     1.0|         3.0|      0|Wedding Planning;...|\n|CX8pfLn7Bk9o2-8yD...|       The UPS Store|         null| 4815 E Carefree Hwy|        Ste 108|Cave Creek|         AZ|   85331|   33.798|-111.977|         1.5|      5|                   1|\n|yzAB_pRwk8FJl3aIL...|         CenturyLink|Spring Valley|4850 S Fort Apach...|        Ste 100| Las Vegas|         NV|   89147|   36.101|-115.297|         1.5|     35|                   0|\n|p8keQs0xw0TzP0JjY...|     The Enfield Fox|         null|   285 Enfield Place|    Mississauga|        ON|    L5B 3Y6|  43.591|  -79.636|     1.5|         3.0|      0|Bars;Restaurants;...|\n|lbxfIXUNUdSRO2t7z...|   Budget Car Rental|         null|    7125 E Shea Blvd|        Ste 101|Scottsdale|         AZ|   85254|   33.581|-111.928|         2.0|      6|                   1|\n|xxCrRqqICzQyR0Q-i...|              Subway|Plaza Midwood|        1300 The Plz|      Charlotte|        NC|      28205|  35.221|   -80.81|     2.0|        13.0|      1|Fast Food;Sandwic...|\n|WdQP8kl9SzcOdubWz...|Red Beard Bodywor...|      Capitol|    301 S Bedford St|        Madison|        WI|      53703|  43.066|  -89.389|     5.0|        10.0|      1|Rolfing;Health & ...|\n|g6KfICYxIFoXnz7KH...|          Chase Bank|         null|705 S Green Valle...|      Henderson|        NV|      89052|  36.003| -115.084|     2.0|         6.0|      1|Financial Service...|\n|Lhtl6hEr4BaAR4aA3...|         Dairy Queen|         null|      475 W Craig Rd|North Las Vegas|        NV|      89032|  36.239| -115.148|     2.0|        57.0|      1|Food;Ice Cream & ...|\n|6FmJM2SYWoUv_DC8F...|1st Choice Storag...|    Southeast|     6360 S Pecos Rd|         Ste 14| Las Vegas|         NV|   89120|   36.073|  -115.1|         2.0|      7|                   0|\n|JJWQxF7ljXKVvCxn3...|Applebee's Neighb...|         null|     13756 W Bell Rd|       Surprise|        AZ|      85374|  33.642| -112.356|     2.5|        56.0|      1|Burgers;Bars;Amer...|\n|3rptIkeGoVRdPF4v6...|    Sunless Boutique|    The Lakes|9921 Mahogany Gro...|      Las Vegas|        NV|      89117|  36.137| -115.313|     5.0|        20.0|      1|Hair Removal;Beau...|\n|JGvyv9jO8kfEnf4Wt...|         Dairy Queen|         null|13623 W Camino De...|  Sun City West|        AZ|      85375|  33.654| -112.356|     2.5|        16.0|      1|Restaurants;Ice C...|\n|dRb2Xq8jorJV6tDCg...|   Papa John's Pizza|         null|       703 E Bell Rd|        Phoenix|        AZ|      85022|   33.64| -112.065|     5.0|         3.0|      1|   Restaurants;Pizza|\n|r7MJN_4aJdNP_mx6u...|        Red Roof Inn|         null|    7400 W Boston St|       Chandler|        AZ|      85226|  33.303|  -111.97|     2.5|         3.0|      0|Hotels;Hotels & T...|\n|_QEwts97jzVcvfVo4...|Integrated Pain S...|Spring Valley|    9333 W Sunset Rd|          Ste A| Las Vegas|         NV|   89148|   36.069|-115.296|         2.5|      8|                   0|\n|-M9S1wlZTvv6T9EOo...|     Grandeur Palace|  Scarborough|   2301 Brimley Road|       Unit 128|   Toronto|         ON| M1S 5B8|   43.798| -79.271|         2.5|     46|                   1|\n+--------------------+--------------------+-------------+--------------------+---------------+----------+-----------+--------+---------+--------+------------+-------+--------------------+\nonly showing top 20 rows\n\nroot\n |-- business_id: string (nullable = true)\n |-- name: string (nullable = true)\n |-- neighborhood: string (nullable = true)\n |-- address: string (nullable = true)\n |-- city: string (nullable = true)\n |-- state: string (nullable = true)\n |-- postal_code: string (nullable = true)\n |-- latitude: string (nullable = true)\n |-- longitude: string (nullable = true)\n |-- stars: double (nullable = true)\n |-- review_count: double (nullable = true)\n |-- is_open: string (nullable = true)\n |-- categories: string (nullable = true)\n\n"
     ]
    }
   ],
   "source": [
    "yelp_business_df.show()\n",
    "yelp_business_df.printSchema()"
   ]
  },
  {
   "cell_type": "markdown",
   "metadata": {
    "application/vnd.databricks.v1+cell": {
     "cellMetadata": {},
     "inputWidgets": {},
     "nuid": "4f49fcd7-2e73-4d12-a59c-b1ffc9343c64",
     "showTitle": false,
     "title": ""
    }
   },
   "source": [
    "## 6. Host Popularity Rental Prices\n",
    "\n",
    "Q. You’re given a table of rental property searches by users. The table consists of search results and outputs host information for searchers. Find the minimum, average, maximum rental prices for each host’s popularity rating. The host’s popularity rating is defined as below:  \n",
    "0 reviews: New  \n",
    "1 to 5 reviews: Rising  \n",
    "6 to 15 reviews: Trending Up  \n",
    "16 to 40 reviews: Popular  \n",
    "more than 40 reviews: Hot \n",
    "\n",
    "\n",
    "Tip: The id column in the table refers to the search ID. You'll need to create your own host_id by concating price, room_type, host_since, zipcode, and number_of_reviews.\n",
    "\n",
    "\n",
    "Output host popularity rating and their minimum, average and maximum rental prices.    \n",
    "[Link](https://platform.stratascratch.com/coding/9632-host-popularity-rental-prices?code_type=3)\n",
    "##### Expected Output\n",
    "![Expected Output]( /files/tables/i4.png)"
   ]
  },
  {
   "cell_type": "code",
   "execution_count": 0,
   "metadata": {
    "application/vnd.databricks.v1+cell": {
     "cellMetadata": {
      "byteLimit": 2048000,
      "rowLimit": 10000
     },
     "inputWidgets": {},
     "nuid": "219ad88a-d21c-4825-b37a-89d1639c23b1",
     "showTitle": false,
     "title": ""
    }
   },
   "outputs": [],
   "source": [
    "airbnb_host_searches_df = spark.read.format('csv')\\\n",
    "                   .option('header','true')\\\n",
    "                   .option('inferschema','true')\\\n",
    "                   .load('/FileStore/tables/six.csv')"
   ]
  },
  {
   "cell_type": "code",
   "execution_count": 0,
   "metadata": {
    "application/vnd.databricks.v1+cell": {
     "cellMetadata": {
      "byteLimit": 2048000,
      "rowLimit": 10000
     },
     "inputWidgets": {},
     "nuid": "7ae8ec01-b70f-40ef-ade3-e93151a58b64",
     "showTitle": false,
     "title": ""
    },
    "jupyter": {
     "outputs_hidden": true,
     "source_hidden": true
    }
   },
   "outputs": [
    {
     "output_type": "stream",
     "name": "stdout",
     "output_type": "stream",
     "text": [
      "+--------+------+-------------+---------------+-----------------------------------+--------------------+----------------------------+----------------------------+----------------------------+------------------------------+-----------------------------+-----------------------------+----------------------------------------------+------------------------------------------------+----------------------------------------------+------------------------------------------------+-------------------------------+------------------------+-----------------------------+-------------------------------+\n|id      |price |property_type|room_type      |amenities                          |accommodates        |bathrooms                   |bed_type                    |cancellation_policy         |cleaning_fee                  |city                         |host_identity_verified       |host_response_rate                            |host_since                                      |neighbourhood                                 |number_of_reviews                               |review_scores_rating           |zipcode                 |bedrooms                     |beds                           |\n+--------+------+-------------+---------------+-----------------------------------+--------------------+----------------------------+----------------------------+----------------------------+------------------------------+-----------------------------+-----------------------------+----------------------------------------------+------------------------------------------------+----------------------------------------------+------------------------------------------------+-------------------------------+------------------------+-----------------------------+-------------------------------+\n|8284881 |621.46|House        |Entire home/apt|\"{TV,\"\"Cable TV\"\"                  |Internet            |\"\"Wireless Internet\"\"       |\"\"Air conditioning\"\"        |Pool                        |Kitchen                       |\"\"Free parking on premises\"\" |Gym                          |\"\"Hot tub\"\"                                   |\"\"Indoor fireplace\"\"                            |Heating                                       |\"\"Family/kid friendly\"\"                         |Washer                         |Dryer                   |\"\"Smoke detector\"\"           |\"\"Carbon monoxide detector\"\"   |\n|8284882 |621.46|House        |Entire home/apt|\"{TV,\"\"Cable TV\"\"                  |Internet            |\"\"Wireless Internet\"\"       |\"\"Air conditioning\"\"        |Pool                        |Kitchen                       |\"\"Free parking on premises\"\" |Gym                          |\"\"Hot tub\"\"                                   |\"\"Indoor fireplace\"\"                            |Heating                                       |\"\"Family/kid friendly\"\"                         |Washer                         |Dryer                   |\"\"Smoke detector\"\"           |\"\"Carbon monoxide detector\"\"   |\n|9479348 |598.9 |Apartment    |Entire home/apt|\"{\"\"Wireless Internet\"\"            |\"\"Air conditioning\"\"|Kitchen                     |Heating                     |\"\"Smoke detector\"\"          |\"\"Carbon monoxide detector\"\"  |Essentials                   |Shampoo                      |Hangers                                       |Iron                                            |\"\"translation missing: en.hosting_amenity_49\"\"|\"\"translation missing: en.hosting_amenity_50\"\"}\"|7                              |2                       |Real Bed                     |strict                         |\n|8596057 |420.47|House        |Private room   |\"{\"\"Wireless Internet\"\"            |\"\"Air conditioning\"\"|Pool                        |Kitchen                     |\"\"Free parking on premises\"\"|Breakfast                     |\"\"Family/kid friendly\"\"      |Washer                       |Dryer                                         |Essentials                                      |Shampoo                                       |Hangers                                         |\"\"Hair dryer\"\"                 |\"\"Self Check-In\"\"       |\"\"Doorman Entry\"\"}\"          |1                              |\n|11525500|478.75|Apartment    |Entire home/apt|\"{\"\"Wireless Internet\"\"            |\"\"Air conditioning\"\"|Heating                     |Washer                      |Dryer                       |Essentials                    |\"\"Laptop friendly workspace\"\"|Microwave                    |Refrigerator                                  |Dishwasher                                      |\"\"Dishes and silverware\"\"                     |\"\"Cooking basics\"\"                              |Oven                           |Stove                   |\"\"Host greets you\"\"}\"        |2                              |\n|533884  |662.01|Apartment    |Entire home/apt|\"{TV,Internet,\"\"Wireless Internet\"\"|\"\"Air conditioning\"\"|Kitchen                     |\"\"Pets allowed\"\"            |Heating                     |\"\"Family/kid friendly\"\"       |Washer                       |Dryer                        |Shampoo                                       |\"\"24-hour check-in\"\"                            |Hangers                                       |\"\"Hair dryer\"\"                                  |\"\"Laptop friendly workspace\"\"}\"|6                       |1                            |Real Bed                       |\n|1404510 |534.71|Townhouse    |Entire home/apt|\"{TV,\"\"Wireless Internet\"\"         |Kitchen             |\"\"Free parking on premises\"\"|\"\"Indoor fireplace\"\"        |Heating                     |\"\"Family/kid friendly\"\"       |Washer                       |Dryer                        |\"\"Smoke detector\"\"                            |\"\"First aid kit\"\"                               |\"\"Fire extinguisher\"\"                         |Essentials                                      |Shampoo                        |Hangers                 |\"\"Hair dryer\"\"               |Iron                           |\n|4691130 |444.27|House        |Private room   |\"{TV,\"\"Wireless Internet\"\"         |\"\"Air conditioning\"\"|Pool                        |Kitchen                     |\"\"Free parking on premises\"\"|Breakfast                     |Heating                      |\"\"Family/kid friendly\"\"      |Washer                                        |Dryer                                           |\"\"Smoke detector\"\"                            |\"\"Carbon monoxide detector\"\"                    |\"\"First aid kit\"\"              |Essentials              |Shampoo                      |\"\"Lock on bedroom door\"\"       |\n|16449480|468.21|Apartment    |Private room   |\"{TV,\"\"Cable TV\"\"                  |Internet            |\"\"Wireless Internet\"\"       |\"\"Air conditioning\"\"        |Kitchen                     |\"\"Smoking allowed\"\"           |\"\"Pets allowed\"\"             |Doorman                      |Elevator                                      |Heating                                         |Washer                                        |Dryer                                           |\"\"Smoke detector\"\"             |\"\"Fire extinguisher\"\"   |Essentials                   |Shampoo}\"                      |\n|12513361|555.68|Apartment    |Entire home/apt|\"{TV,\"\"Wireless Internet\"\"         |\"\"Air conditioning\"\"|\"\"Smoke detector\"\"          |\"\"Carbon monoxide detector\"\"|Essentials                  |\"\"Lock on bedroom door\"\"      |Hangers                      |Iron}\"                       |2                                             |1                                               |Real Bed                                      |flexible                                        |0                              |NYC                     |t                            |89%                            |\n|15149374|444.27|Bungalow     |Private room   |\"{\"\"Wireless Internet\"\"            |Kitchen             |\"\"Pets allowed\"\"            |\"\"Indoor fireplace\"\"        |Heating                     |Washer                        |Dryer                        |\"\"Smoke detector\"\"           |\"\"Carbon monoxide detector\"\"                  |\"\"First aid kit\"\"                               |\"\"Fire extinguisher\"\"                         |Essentials                                      |Shampoo                        |\"\"Lock on bedroom door\"\"|Hangers                      |\"\"Hair dryer\"\"                 |\n|11972209|548.06|Apartment    |Entire home/apt|\"{TV,\"\"Cable TV\"\"                  |Internet            |\"\"Wireless Internet\"\"       |\"\"Air conditioning\"\"        |Kitchen                     |Heating                       |\"\"Family/kid friendly\"\"      |\"\"Smoke detector\"\"           |\"\"Carbon monoxide detector\"\"                  |\"\"First aid kit\"\"                               |\"\"Safety card\"\"                               |\"\"Fire extinguisher\"\"                           |Essentials                     |Shampoo                 |\"\"24-hour check-in\"\"         |Hangers                        |\n|6689195 |433.07|Apartment    |Entire home/apt|\"{TV,Internet,\"\"Wireless Internet\"\"|\"\"Air conditioning\"\"|Pool                        |Kitchen                     |Gym                         |\"\"Pets live on this property\"\"|Cat(s)                       |\"\"Buzzer/wireless intercom\"\" |\"\"Family/kid friendly\"\"                       |Washer                                          |Dryer                                         |\"\"Smoke detector\"\"                              |\"\"First aid kit\"\"              |\"\"Fire extinguisher\"\"   |Essentials                   |Shampoo                        |\n|17009057|552.15|House        |Entire home/apt|\"{TV,\"\"Cable TV\"\"                  |Internet            |\"\"Wireless Internet\"\"       |Kitchen                     |\"\"Free parking on premises\"\"|Heating                       |\"\"Family/kid friendly\"\"      |Washer                       |Dryer                                         |\"\"Smoke detector\"\"                              |\"\"Carbon monoxide detector\"\"                  |\"\"Fire extinguisher\"\"                           |Essentials                     |Shampoo                 |Hangers                      |\"\"Hair dryer\"\"                 |\n|18333003|570.04|Apartment    |Private room   |\"{TV,\"\"Wireless Internet\"\"         |\"\"Air conditioning\"\"|Pool                        |Kitchen                     |Gym                         |\"\"Elevator in building\"\"      |Heating                      |\"\"Family/kid friendly\"\"      |Washer                                        |Dryer                                           |\"\"Smoke detector\"\"                            |Essentials                                      |Shampoo                        |Hangers                 |\"\"Laptop friendly workspace\"\"|\"\"Private living room\"\"}\"      |\n|16274069|482.83|Apartment    |Entire home/apt|\"{TV,Internet,\"\"Wireless Internet\"\"|\"\"Air conditioning\"\"|Kitchen                     |\"\"Free parking on premises\"\"|\"\"Buzzer/wireless intercom\"\"|Heating                       |\"\"Family/kid friendly\"\"      |\"\"Smoke detector\"\"           |\"\"Carbon monoxide detector\"\"                  |\"\"First aid kit\"\"                               |Essentials}\"                                  |4                                               |1                              |Real Bed                |moderate                     |1                              |\n|13121821|501.06|Apartment    |Private room   |\"{TV,\"\"Cable TV\"\"                  |Internet            |\"\"Wireless Internet\"\"       |\"\"Air conditioning\"\"        |Kitchen                     |Heating                       |\"\"Smoke detector\"\"           |\"\"First aid kit\"\"            |Essentials                                    |Hangers                                         |\"\"Hair dryer\"\"                                |Iron                                            |\"\"Laptop friendly workspace\"\"}\"|1                       |1                            |Real Bed                       |\n|15705947|478.75|Apartment    |Entire home/apt|\"{\"\"Wireless Internet\"\"            |\"\"Air conditioning\"\"|Kitchen                     |\"\"Family/kid friendly\"\"     |\"\"Suitable for events\"\"     |Washer                        |Dryer                        |\"\"Smoke detector\"\"           |\"\"Carbon monoxide detector\"\"                  |\"\"First aid kit\"\"                               |\"\"Safety card\"\"                               |Essentials                                      |Shampoo                        |\"\"Hair dryer\"\"          |Iron                         |\"\"Laptop friendly workspace\"\"}\"|\n|11456592|529.83|Loft         |Private room   |\"{\"\"Wireless Internet\"\"            |\"\"Air conditioning\"\"|\"\"Free parking on premises\"\"|Breakfast                   |Heating                     |Essentials                    |\"\"Lock on bedroom door\"\"     |\"\"Laptop friendly workspace\"\"|\"\"translation missing: en.hosting_amenity_49\"\"|\"\"translation missing: en.hosting_amenity_50\"\"}\"|2                                             |1                                               |Real Bed                       |moderate                |0                            |NYC                            |\n|11456593|529.83|Loft         |Private room   |\"{\"\"Wireless Internet\"\"            |\"\"Air conditioning\"\"|\"\"Free parking on premises\"\"|Breakfast                   |Heating                     |Essentials                    |\"\"Lock on bedroom door\"\"     |\"\"Laptop friendly workspace\"\"|\"\"translation missing: en.hosting_amenity_49\"\"|\"\"translation missing: en.hosting_amenity_50\"\"}\"|2                                             |1                                               |Real Bed                       |moderate                |0                            |NYC                            |\n+--------+------+-------------+---------------+-----------------------------------+--------------------+----------------------------+----------------------------+----------------------------+------------------------------+-----------------------------+-----------------------------+----------------------------------------------+------------------------------------------------+----------------------------------------------+------------------------------------------------+-------------------------------+------------------------+-----------------------------+-------------------------------+\nonly showing top 20 rows\n\nroot\n |-- id: integer (nullable = true)\n |-- price: double (nullable = true)\n |-- property_type: string (nullable = true)\n |-- room_type: string (nullable = true)\n |-- amenities: string (nullable = true)\n |-- accommodates: string (nullable = true)\n |-- bathrooms: string (nullable = true)\n |-- bed_type: string (nullable = true)\n |-- cancellation_policy: string (nullable = true)\n |-- cleaning_fee: string (nullable = true)\n |-- city: string (nullable = true)\n |-- host_identity_verified: string (nullable = true)\n |-- host_response_rate: string (nullable = true)\n |-- host_since: string (nullable = true)\n |-- neighbourhood: string (nullable = true)\n |-- number_of_reviews: string (nullable = true)\n |-- review_scores_rating: string (nullable = true)\n |-- zipcode: string (nullable = true)\n |-- bedrooms: string (nullable = true)\n |-- beds: string (nullable = true)\n\n"
     ]
    }
   ],
   "source": [
    "airbnb_host_searches_df.show(truncate=False)\n",
    "airbnb_host_searches_df.printSchema()"
   ]
  },
  {
   "cell_type": "markdown",
   "metadata": {
    "application/vnd.databricks.v1+cell": {
     "cellMetadata": {},
     "inputWidgets": {},
     "nuid": "a8d00c42-2d2b-4be1-9537-6ce79c33680b",
     "showTitle": false,
     "title": ""
    }
   },
   "source": [
    "## 7. Cookbook Recipes\n",
    "\n",
    "Q. You are given the table with titles of recipes from a cookbook and their page numbers. You are asked to represent how the recipes will be distributed in the book.\n",
    "Produce a table consisting of three columns: left_page_number, left_title and right_title. The k-th row (counting from 0), should contain the number and the title of the page with the number (2 x K) in the first and second columns respectively, and the title of the page with the number (2 x k)+1 in the third column.\n",
    "Each page contains at most 1 recipe. If the page does not contain a recipe, the appropriate cell should remain empty (NULL value). Page 0 (the internal side of the front cover) is guaranteed to be empty.     \n",
    "[Link](https://platform.stratascratch.com/coding/2089-cookbook-recipes?code_type=3)\n",
    "##### Expected Output\n",
    "![Expected Output]( /files/tables/i5.png)"
   ]
  },
  {
   "cell_type": "markdown",
   "metadata": {
    "application/vnd.databricks.v1+cell": {
     "cellMetadata": {},
     "inputWidgets": {},
     "nuid": "2d146ac6-eada-4cb8-8ed0-5b68ed13307c",
     "showTitle": false,
     "title": ""
    }
   },
   "source": [
    "## 8. Retention Rate\n",
    "\n",
    "Q. Find the monthly retention rate of users for each account separately for Dec 2020 and Jan 2021. Retention rate is the percentage of active users an account retains over a given period of time. In this case, assume the user is retained if he/she stays with the app in any future months. For example, if a user was active in Dec 2020 and has activity in any future month, consider them retained for Dec. You can assume all accounts are present in Dec 2020 and Jan 2021. Your output should have the account ID and the Jan 2021 retention rate divided by Dec 2020 retention rate.           \n",
    "[Link](https://platform.stratascratch.com/coding/2053-retention-rate?code_type=3)\n",
    "##### Expected Output\n",
    "![Expected Output]( /files/tables/i8.png)"
   ]
  },
  {
   "cell_type": "markdown",
   "metadata": {
    "application/vnd.databricks.v1+cell": {
     "cellMetadata": {},
     "inputWidgets": {},
     "nuid": "9183db17-3800-4f53-a7db-5fda1233fe43",
     "showTitle": false,
     "title": ""
    }
   },
   "source": [
    "## 9. The Most Popular Client_Id Among Users Using Video and Voice Calls\n",
    "\n",
    "Q. Select the most popular client_id based on a count of the number of users who have at least 50% of their events from the following list: 'video call received', 'video call sent', 'voice call received', 'voice call sent'.   \n",
    "[Link](https://platform.stratascratch.com/coding/2029-the-most-popular-client_id-among-users-using-video-and-voice-calls?code_type=3)\n",
    "##### Expected Output\n",
    "![Expected Output]( /files/tables/i9.png)"
   ]
  },
  {
   "cell_type": "markdown",
   "metadata": {
    "application/vnd.databricks.v1+cell": {
     "cellMetadata": {},
     "inputWidgets": {},
     "nuid": "8e4713f6-0c79-4439-8418-0501209414f4",
     "showTitle": false,
     "title": ""
    }
   },
   "source": [
    "## 10. Marketing Campaign Success [Advanced]\n",
    "\n",
    "Q. You have a table of in-app purchases by user. Users that make their first in-app purchase are placed in a marketing campaign where they see call-to-actions for more in-app purchases. Find the number of users that made additional in-app purchases due to the success of the marketing campaign.\n",
    "The marketing campaign doesn't start until one day after the initial in-app purchase so users that only made one or multiple purchases on the first day do not count, nor do we count users that over time purchase only the products they purchased on the first day.   \n",
    "[Link](https://platform.stratascratch.com/coding/514-marketing-campaign-success-advanced?code_type=3)\n",
    "##### Expected Output\n",
    "![Expected Output]( /files/tables/i10.png)"
   ]
  },
  {
   "cell_type": "code",
   "execution_count": 0,
   "metadata": {
    "application/vnd.databricks.v1+cell": {
     "cellMetadata": {},
     "inputWidgets": {},
     "nuid": "ce9c8b64-6561-42ed-823c-99146f12c7cc",
     "showTitle": false,
     "title": ""
    }
   },
   "outputs": [],
   "source": []
  }
 ],
 "metadata": {
  "application/vnd.databricks.v1+notebook": {
   "dashboards": [],
   "language": "python",
   "notebookMetadata": {
    "mostRecentlyExecutedCommandWithImplicitDF": {
     "commandId": 2020647449967033,
     "dataframes": [
      "_sqldf"
     ]
    },
    "pythonIndentUnit": 4
   },
   "notebookName": "Pyspark Transformations 2023-11-07 19:59:21",
   "widgets": {}
  }
 },
 "nbformat": 4,
 "nbformat_minor": 0
}
